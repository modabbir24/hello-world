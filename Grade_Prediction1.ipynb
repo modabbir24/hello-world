{
  "nbformat": 4,
  "nbformat_minor": 0,
  "metadata": {
    "colab": {
      "name": "Grade_Prediction1.ipynb",
      "provenance": [],
      "collapsed_sections": [],
      "toc_visible": true,
      "include_colab_link": true
    },
    "kernelspec": {
      "display_name": "Python 3",
      "language": "python",
      "name": "python3"
    },
    "language_info": {
      "codemirror_mode": {
        "name": "ipython",
        "version": 3
      },
      "file_extension": ".py",
      "mimetype": "text/x-python",
      "name": "python",
      "nbconvert_exporter": "python",
      "pygments_lexer": "ipython3",
      "version": "3.7.3"
    }
  },
  "cells": [
    {
      "cell_type": "markdown",
      "metadata": {
        "id": "view-in-github",
        "colab_type": "text"
      },
      "source": [
        "<a href=\"https://colab.research.google.com/github/modabbir24/hello-world/blob/master/Grade_Prediction1.ipynb\" target=\"_parent\"><img src=\"https://colab.research.google.com/assets/colab-badge.svg\" alt=\"Open In Colab\"/></a>"
      ]
    },
    {
      "cell_type": "code",
      "metadata": {
        "colab_type": "code",
        "id": "NxSZ_Dvi2clL",
        "colab": {}
      },
      "source": [
        "import scipy as sp\n",
        "import seaborn as sns\n",
        "import pandas as pd\n",
        "import matplotlib.pyplot as plt\n",
        "import seaborn as sns\n",
        "import numpy as np\n",
        "from scipy.stats import norm\n",
        "from sklearn.preprocessing import StandardScaler\n",
        "from scipy import stats\n",
        "import warnings\n",
        "warnings.filterwarnings('ignore')\n",
        "%matplotlib inline"
      ],
      "execution_count": 0,
      "outputs": []
    },
    {
      "cell_type": "code",
      "metadata": {
        "colab_type": "code",
        "id": "2tQYWP0s2cld",
        "outputId": "c999ffe0-aecb-459a-f8f7-138517dbebe4",
        "colab": {
          "base_uri": "https://localhost:8080/",
          "height": 450
        }
      },
      "source": [
        "data = pd.read_excel(\"data.xlsx\")\n",
        "data.head()"
      ],
      "execution_count": 4,
      "outputs": [
        {
          "output_type": "execute_result",
          "data": {
            "text/html": [
              "<div>\n",
              "<style scoped>\n",
              "    .dataframe tbody tr th:only-of-type {\n",
              "        vertical-align: middle;\n",
              "    }\n",
              "\n",
              "    .dataframe tbody tr th {\n",
              "        vertical-align: top;\n",
              "    }\n",
              "\n",
              "    .dataframe thead th {\n",
              "        text-align: right;\n",
              "    }\n",
              "</style>\n",
              "<table border=\"1\" class=\"dataframe\">\n",
              "  <thead>\n",
              "    <tr style=\"text-align: right;\">\n",
              "      <th></th>\n",
              "      <th>Timestamp</th>\n",
              "      <th>Survey taken by(CnA Member)</th>\n",
              "      <th>Sex</th>\n",
              "      <th>Branch</th>\n",
              "      <th>Dropper?</th>\n",
              "      <th>10th Board</th>\n",
              "      <th>12th Board</th>\n",
              "      <th>Coaching</th>\n",
              "      <th>Coaching City</th>\n",
              "      <th>Coaching Name</th>\n",
              "      <th>Home State</th>\n",
              "      <th>Home City</th>\n",
              "      <th>Family Size</th>\n",
              "      <th>Mom's Education</th>\n",
              "      <th>Dad's Education</th>\n",
              "      <th>Mom's Job</th>\n",
              "      <th>Dad's Job</th>\n",
              "      <th>Study Time?</th>\n",
              "      <th>Which Technical Clubs are you part of ?</th>\n",
              "      <th>Which Cultural Clubs are you part of?</th>\n",
              "      <th>Member of Fests' organizing team?</th>\n",
              "      <th>Hostel?</th>\n",
              "      <th>At the time of Spardha/Kirti/Manthan, approx. time given per day? (hours)</th>\n",
              "      <th>Have you taken an educational loan?</th>\n",
              "      <th>Time spent outside your room[except classes]? (daily average, in hours)</th>\n",
              "      <th>Attendance?</th>\n",
              "      <th>Relationship status?</th>\n",
              "      <th>Time spent per day in gaming, tvseries, movies, other leisure activities ?(hours)</th>\n",
              "      <th>Library?</th>\n",
              "      <th>When do you sleep?</th>\n",
              "      <th>Sleep Duration(Hrs)?</th>\n",
              "      <th>Do you sleep during the day?</th>\n",
              "      <th>Addiction?</th>\n",
              "      <th>Relation with TA ? (on the scale of 1 to 5)</th>\n",
              "      <th>Lab taken seriously</th>\n",
              "      <th>Tut taken seriously</th>\n",
              "      <th>Quiz taken seriously</th>\n",
              "      <th>Midsem taken seriously</th>\n",
              "      <th>Endsem taken seriously</th>\n",
              "      <th>Aiming for branch change</th>\n",
              "      <th>Attention Level(During Lectures)</th>\n",
              "      <th>Group Study/Individual</th>\n",
              "      <th>Study Material Preferred</th>\n",
              "      <th>Interest in branch?</th>\n",
              "      <th>Core/Non-Core</th>\n",
              "      <th>CPI</th>\n",
              "    </tr>\n",
              "  </thead>\n",
              "  <tbody>\n",
              "    <tr>\n",
              "      <th>0</th>\n",
              "      <td>2020-02-09 08:37:09.442</td>\n",
              "      <td>NaN</td>\n",
              "      <td>Male</td>\n",
              "      <td>ME</td>\n",
              "      <td>No</td>\n",
              "      <td>CBSE</td>\n",
              "      <td>CBSE</td>\n",
              "      <td>Yes</td>\n",
              "      <td>Patna</td>\n",
              "      <td>Mentors Eduserv</td>\n",
              "      <td>Bihar</td>\n",
              "      <td>Patna</td>\n",
              "      <td>4</td>\n",
              "      <td>Graduate</td>\n",
              "      <td>Post Graduate</td>\n",
              "      <td>Govt</td>\n",
              "      <td>Business</td>\n",
              "      <td>Irregular</td>\n",
              "      <td>1</td>\n",
              "      <td>1</td>\n",
              "      <td>None</td>\n",
              "      <td>Lohit</td>\n",
              "      <td>0.5</td>\n",
              "      <td>Yes</td>\n",
              "      <td>2.0</td>\n",
              "      <td>Above 90?</td>\n",
              "      <td>Single</td>\n",
              "      <td>3.0</td>\n",
              "      <td>During Exams</td>\n",
              "      <td>After 12 pm</td>\n",
              "      <td>NaN</td>\n",
              "      <td>NaN</td>\n",
              "      <td>NaN</td>\n",
              "      <td>4</td>\n",
              "      <td>NaN</td>\n",
              "      <td>NaN</td>\n",
              "      <td>NaN</td>\n",
              "      <td>NaN</td>\n",
              "      <td>NaN</td>\n",
              "      <td>NaN</td>\n",
              "      <td>NaN</td>\n",
              "      <td>NaN</td>\n",
              "      <td>NaN</td>\n",
              "      <td>NaN</td>\n",
              "      <td>NaN</td>\n",
              "      <td>NaN</td>\n",
              "    </tr>\n",
              "    <tr>\n",
              "      <th>1</th>\n",
              "      <td>2020-02-09 17:30:40.861</td>\n",
              "      <td>Samarth</td>\n",
              "      <td>Male</td>\n",
              "      <td>BSBE</td>\n",
              "      <td>No</td>\n",
              "      <td>CBSE</td>\n",
              "      <td>CBSE</td>\n",
              "      <td>No</td>\n",
              "      <td>NaN</td>\n",
              "      <td>NaN</td>\n",
              "      <td>Rajasthan</td>\n",
              "      <td>Bikaner</td>\n",
              "      <td>9</td>\n",
              "      <td>Post Graduate</td>\n",
              "      <td>Post Graduate</td>\n",
              "      <td>Housewife</td>\n",
              "      <td>Business</td>\n",
              "      <td>Irregular</td>\n",
              "      <td>CnA, Quiz club</td>\n",
              "      <td>Debsoc</td>\n",
              "      <td>Techniche</td>\n",
              "      <td>Umiam</td>\n",
              "      <td>6-7</td>\n",
              "      <td>No</td>\n",
              "      <td>12.0</td>\n",
              "      <td>Below 90?</td>\n",
              "      <td>Single</td>\n",
              "      <td>2.0</td>\n",
              "      <td>During Exams</td>\n",
              "      <td>After 12 am</td>\n",
              "      <td>7</td>\n",
              "      <td>No</td>\n",
              "      <td>NaN</td>\n",
              "      <td>4</td>\n",
              "      <td>4.0</td>\n",
              "      <td>3.0</td>\n",
              "      <td>5.0</td>\n",
              "      <td>5.0</td>\n",
              "      <td>5.0</td>\n",
              "      <td>2.0</td>\n",
              "      <td>1.0</td>\n",
              "      <td>Individual</td>\n",
              "      <td>Online content</td>\n",
              "      <td>3.0</td>\n",
              "      <td>Non-Core</td>\n",
              "      <td>7.56</td>\n",
              "    </tr>\n",
              "    <tr>\n",
              "      <th>2</th>\n",
              "      <td>2020-02-09 17:32:07.255</td>\n",
              "      <td>Maneshwar Singh</td>\n",
              "      <td>Male</td>\n",
              "      <td>BSBE</td>\n",
              "      <td>No</td>\n",
              "      <td>CBSE</td>\n",
              "      <td>State</td>\n",
              "      <td>Yes</td>\n",
              "      <td>Indore</td>\n",
              "      <td>Allen</td>\n",
              "      <td>Madhya Pradesh</td>\n",
              "      <td>Maheshwar</td>\n",
              "      <td>6</td>\n",
              "      <td>Graduate</td>\n",
              "      <td>Post Graduate</td>\n",
              "      <td>Housewife</td>\n",
              "      <td>Govt</td>\n",
              "      <td>Everyday upto 2-4 hours</td>\n",
              "      <td>CnA, Aero</td>\n",
              "      <td>NaN</td>\n",
              "      <td>NaN</td>\n",
              "      <td>Kapili</td>\n",
              "      <td>5 to 6</td>\n",
              "      <td>No</td>\n",
              "      <td>4.0</td>\n",
              "      <td>Above 90?</td>\n",
              "      <td>Single</td>\n",
              "      <td>1.0</td>\n",
              "      <td>Rarely</td>\n",
              "      <td>After 12 am</td>\n",
              "      <td>6</td>\n",
              "      <td>No</td>\n",
              "      <td>NaN</td>\n",
              "      <td>4</td>\n",
              "      <td>4.0</td>\n",
              "      <td>3.0</td>\n",
              "      <td>4.0</td>\n",
              "      <td>5.0</td>\n",
              "      <td>5.0</td>\n",
              "      <td>4.0</td>\n",
              "      <td>3.0</td>\n",
              "      <td>Individual</td>\n",
              "      <td>Online content</td>\n",
              "      <td>4.0</td>\n",
              "      <td>Core</td>\n",
              "      <td>7.40</td>\n",
              "    </tr>\n",
              "    <tr>\n",
              "      <th>3</th>\n",
              "      <td>2020-02-09 17:33:04.822</td>\n",
              "      <td>NaN</td>\n",
              "      <td>Male</td>\n",
              "      <td>CL</td>\n",
              "      <td>No</td>\n",
              "      <td>CBSE</td>\n",
              "      <td>CBSE</td>\n",
              "      <td>Yes</td>\n",
              "      <td>patna</td>\n",
              "      <td>vmc</td>\n",
              "      <td>bihar</td>\n",
              "      <td>sasaram</td>\n",
              "      <td>4</td>\n",
              "      <td>10th Pass</td>\n",
              "      <td>Graduate</td>\n",
              "      <td>Housewife</td>\n",
              "      <td>Business</td>\n",
              "      <td>NaN</td>\n",
              "      <td>CnA</td>\n",
              "      <td>NaN</td>\n",
              "      <td>Techniche</td>\n",
              "      <td>Brahmaputra</td>\n",
              "      <td>3</td>\n",
              "      <td>Yes</td>\n",
              "      <td>2.0</td>\n",
              "      <td>Below 90?</td>\n",
              "      <td>Single</td>\n",
              "      <td>1.0</td>\n",
              "      <td>Rarely</td>\n",
              "      <td>After 12 am</td>\n",
              "      <td>7</td>\n",
              "      <td>No</td>\n",
              "      <td>NaN</td>\n",
              "      <td>4</td>\n",
              "      <td>4.0</td>\n",
              "      <td>3.0</td>\n",
              "      <td>5.0</td>\n",
              "      <td>5.0</td>\n",
              "      <td>5.0</td>\n",
              "      <td>2.0</td>\n",
              "      <td>4.0</td>\n",
              "      <td>Group Study</td>\n",
              "      <td>Online content</td>\n",
              "      <td>4.0</td>\n",
              "      <td>Non-Core</td>\n",
              "      <td>7.20</td>\n",
              "    </tr>\n",
              "    <tr>\n",
              "      <th>4</th>\n",
              "      <td>2020-02-09 17:38:39.098</td>\n",
              "      <td>NaN</td>\n",
              "      <td>Male</td>\n",
              "      <td>CL</td>\n",
              "      <td>No</td>\n",
              "      <td>CBSE</td>\n",
              "      <td>CBSE</td>\n",
              "      <td>Yes</td>\n",
              "      <td>patna</td>\n",
              "      <td>vmc</td>\n",
              "      <td>bihar</td>\n",
              "      <td>sasaram</td>\n",
              "      <td>4</td>\n",
              "      <td>10th Pass</td>\n",
              "      <td>Graduate</td>\n",
              "      <td>Housewife</td>\n",
              "      <td>Business</td>\n",
              "      <td>NaN</td>\n",
              "      <td>CnA</td>\n",
              "      <td>NaN</td>\n",
              "      <td>Techniche</td>\n",
              "      <td>Brahmaputra</td>\n",
              "      <td>3</td>\n",
              "      <td>Yes</td>\n",
              "      <td>2.0</td>\n",
              "      <td>Below 90?</td>\n",
              "      <td>Single</td>\n",
              "      <td>1.0</td>\n",
              "      <td>Rarely</td>\n",
              "      <td>After 12 am</td>\n",
              "      <td>7</td>\n",
              "      <td>No</td>\n",
              "      <td>NaN</td>\n",
              "      <td>4</td>\n",
              "      <td>4.0</td>\n",
              "      <td>3.0</td>\n",
              "      <td>5.0</td>\n",
              "      <td>5.0</td>\n",
              "      <td>5.0</td>\n",
              "      <td>2.0</td>\n",
              "      <td>4.0</td>\n",
              "      <td>Group Study</td>\n",
              "      <td>Online content</td>\n",
              "      <td>4.0</td>\n",
              "      <td>Non-Core</td>\n",
              "      <td>7.20</td>\n",
              "    </tr>\n",
              "  </tbody>\n",
              "</table>\n",
              "</div>"
            ],
            "text/plain": [
              "                Timestamp Survey taken by(CnA Member)  ... Core/Non-Core  CPI \n",
              "0 2020-02-09 08:37:09.442                         NaN  ...           NaN   NaN\n",
              "1 2020-02-09 17:30:40.861                     Samarth  ...      Non-Core  7.56\n",
              "2 2020-02-09 17:32:07.255             Maneshwar Singh  ...          Core  7.40\n",
              "3 2020-02-09 17:33:04.822                         NaN  ...      Non-Core  7.20\n",
              "4 2020-02-09 17:38:39.098                         NaN  ...      Non-Core  7.20\n",
              "\n",
              "[5 rows x 46 columns]"
            ]
          },
          "metadata": {
            "tags": []
          },
          "execution_count": 4
        }
      ]
    },
    {
      "cell_type": "code",
      "metadata": {
        "colab_type": "code",
        "id": "ZO6VimwTL5tU",
        "outputId": "966cb41b-c0a6-4a84-adc6-ecc2ff03c0fc",
        "colab": {
          "base_uri": "https://localhost:8080/",
          "height": 177
        }
      },
      "source": [
        "data['CPI '].describe()"
      ],
      "execution_count": 5,
      "outputs": [
        {
          "output_type": "execute_result",
          "data": {
            "text/plain": [
              "count    311.000000\n",
              "mean       7.736019\n",
              "std        1.222124\n",
              "min        1.700000\n",
              "25%        7.000000\n",
              "50%        7.800000\n",
              "75%        8.505000\n",
              "max       10.000000\n",
              "Name: CPI , dtype: float64"
            ]
          },
          "metadata": {
            "tags": []
          },
          "execution_count": 5
        }
      ]
    },
    {
      "cell_type": "code",
      "metadata": {
        "colab_type": "code",
        "id": "QLKdxruK5UmH",
        "colab": {}
      },
      "source": [
        "data.drop(data.index[0], inplace = True)"
      ],
      "execution_count": 0,
      "outputs": []
    },
    {
      "cell_type": "code",
      "metadata": {
        "colab_type": "code",
        "id": "1Mks5R4W2clk",
        "colab": {}
      },
      "source": [
        "data.drop(['Timestamp', 'Survey taken by(CnA Member)'],axis=1,inplace = True)"
      ],
      "execution_count": 0,
      "outputs": []
    },
    {
      "cell_type": "code",
      "metadata": {
        "colab_type": "code",
        "id": "qJU96nGQ2clt",
        "colab": {}
      },
      "source": [
        "pd.set_option('display.max_columns', 500)"
      ],
      "execution_count": 0,
      "outputs": []
    },
    {
      "cell_type": "code",
      "metadata": {
        "colab_type": "code",
        "id": "umgXlvkQ2cl4",
        "outputId": "fe1d23b3-33ab-4e30-d8b7-2ecabf97271d",
        "colab": {
          "base_uri": "https://localhost:8080/",
          "height": 824
        }
      },
      "source": [
        "data"
      ],
      "execution_count": 9,
      "outputs": [
        {
          "output_type": "execute_result",
          "data": {
            "text/html": [
              "<div>\n",
              "<style scoped>\n",
              "    .dataframe tbody tr th:only-of-type {\n",
              "        vertical-align: middle;\n",
              "    }\n",
              "\n",
              "    .dataframe tbody tr th {\n",
              "        vertical-align: top;\n",
              "    }\n",
              "\n",
              "    .dataframe thead th {\n",
              "        text-align: right;\n",
              "    }\n",
              "</style>\n",
              "<table border=\"1\" class=\"dataframe\">\n",
              "  <thead>\n",
              "    <tr style=\"text-align: right;\">\n",
              "      <th></th>\n",
              "      <th>Sex</th>\n",
              "      <th>Branch</th>\n",
              "      <th>Dropper?</th>\n",
              "      <th>10th Board</th>\n",
              "      <th>12th Board</th>\n",
              "      <th>Coaching</th>\n",
              "      <th>Coaching City</th>\n",
              "      <th>Coaching Name</th>\n",
              "      <th>Home State</th>\n",
              "      <th>Home City</th>\n",
              "      <th>Family Size</th>\n",
              "      <th>Mom's Education</th>\n",
              "      <th>Dad's Education</th>\n",
              "      <th>Mom's Job</th>\n",
              "      <th>Dad's Job</th>\n",
              "      <th>Study Time?</th>\n",
              "      <th>Which Technical Clubs are you part of ?</th>\n",
              "      <th>Which Cultural Clubs are you part of?</th>\n",
              "      <th>Member of Fests' organizing team?</th>\n",
              "      <th>Hostel?</th>\n",
              "      <th>At the time of Spardha/Kirti/Manthan, approx. time given per day? (hours)</th>\n",
              "      <th>Have you taken an educational loan?</th>\n",
              "      <th>Time spent outside your room[except classes]? (daily average, in hours)</th>\n",
              "      <th>Attendance?</th>\n",
              "      <th>Relationship status?</th>\n",
              "      <th>Time spent per day in gaming, tvseries, movies, other leisure activities ?(hours)</th>\n",
              "      <th>Library?</th>\n",
              "      <th>When do you sleep?</th>\n",
              "      <th>Sleep Duration(Hrs)?</th>\n",
              "      <th>Do you sleep during the day?</th>\n",
              "      <th>Addiction?</th>\n",
              "      <th>Relation with TA ? (on the scale of 1 to 5)</th>\n",
              "      <th>Lab taken seriously</th>\n",
              "      <th>Tut taken seriously</th>\n",
              "      <th>Quiz taken seriously</th>\n",
              "      <th>Midsem taken seriously</th>\n",
              "      <th>Endsem taken seriously</th>\n",
              "      <th>Aiming for branch change</th>\n",
              "      <th>Attention Level(During Lectures)</th>\n",
              "      <th>Group Study/Individual</th>\n",
              "      <th>Study Material Preferred</th>\n",
              "      <th>Interest in branch?</th>\n",
              "      <th>Core/Non-Core</th>\n",
              "      <th>CPI</th>\n",
              "    </tr>\n",
              "  </thead>\n",
              "  <tbody>\n",
              "    <tr>\n",
              "      <th>1</th>\n",
              "      <td>Male</td>\n",
              "      <td>BSBE</td>\n",
              "      <td>No</td>\n",
              "      <td>CBSE</td>\n",
              "      <td>CBSE</td>\n",
              "      <td>No</td>\n",
              "      <td>NaN</td>\n",
              "      <td>NaN</td>\n",
              "      <td>Rajasthan</td>\n",
              "      <td>Bikaner</td>\n",
              "      <td>9</td>\n",
              "      <td>Post Graduate</td>\n",
              "      <td>Post Graduate</td>\n",
              "      <td>Housewife</td>\n",
              "      <td>Business</td>\n",
              "      <td>Irregular</td>\n",
              "      <td>CnA, Quiz club</td>\n",
              "      <td>Debsoc</td>\n",
              "      <td>Techniche</td>\n",
              "      <td>Umiam</td>\n",
              "      <td>6-7</td>\n",
              "      <td>No</td>\n",
              "      <td>12.0</td>\n",
              "      <td>Below 90?</td>\n",
              "      <td>Single</td>\n",
              "      <td>2.0</td>\n",
              "      <td>During Exams</td>\n",
              "      <td>After 12 am</td>\n",
              "      <td>7</td>\n",
              "      <td>No</td>\n",
              "      <td>NaN</td>\n",
              "      <td>4</td>\n",
              "      <td>4.0</td>\n",
              "      <td>3.0</td>\n",
              "      <td>5.0</td>\n",
              "      <td>5.0</td>\n",
              "      <td>5.0</td>\n",
              "      <td>2.0</td>\n",
              "      <td>1.0</td>\n",
              "      <td>Individual</td>\n",
              "      <td>Online content</td>\n",
              "      <td>3.0</td>\n",
              "      <td>Non-Core</td>\n",
              "      <td>7.56</td>\n",
              "    </tr>\n",
              "    <tr>\n",
              "      <th>2</th>\n",
              "      <td>Male</td>\n",
              "      <td>BSBE</td>\n",
              "      <td>No</td>\n",
              "      <td>CBSE</td>\n",
              "      <td>State</td>\n",
              "      <td>Yes</td>\n",
              "      <td>Indore</td>\n",
              "      <td>Allen</td>\n",
              "      <td>Madhya Pradesh</td>\n",
              "      <td>Maheshwar</td>\n",
              "      <td>6</td>\n",
              "      <td>Graduate</td>\n",
              "      <td>Post Graduate</td>\n",
              "      <td>Housewife</td>\n",
              "      <td>Govt</td>\n",
              "      <td>Everyday upto 2-4 hours</td>\n",
              "      <td>CnA, Aero</td>\n",
              "      <td>NaN</td>\n",
              "      <td>NaN</td>\n",
              "      <td>Kapili</td>\n",
              "      <td>5 to 6</td>\n",
              "      <td>No</td>\n",
              "      <td>4.0</td>\n",
              "      <td>Above 90?</td>\n",
              "      <td>Single</td>\n",
              "      <td>1.0</td>\n",
              "      <td>Rarely</td>\n",
              "      <td>After 12 am</td>\n",
              "      <td>6</td>\n",
              "      <td>No</td>\n",
              "      <td>NaN</td>\n",
              "      <td>4</td>\n",
              "      <td>4.0</td>\n",
              "      <td>3.0</td>\n",
              "      <td>4.0</td>\n",
              "      <td>5.0</td>\n",
              "      <td>5.0</td>\n",
              "      <td>4.0</td>\n",
              "      <td>3.0</td>\n",
              "      <td>Individual</td>\n",
              "      <td>Online content</td>\n",
              "      <td>4.0</td>\n",
              "      <td>Core</td>\n",
              "      <td>7.40</td>\n",
              "    </tr>\n",
              "    <tr>\n",
              "      <th>3</th>\n",
              "      <td>Male</td>\n",
              "      <td>CL</td>\n",
              "      <td>No</td>\n",
              "      <td>CBSE</td>\n",
              "      <td>CBSE</td>\n",
              "      <td>Yes</td>\n",
              "      <td>patna</td>\n",
              "      <td>vmc</td>\n",
              "      <td>bihar</td>\n",
              "      <td>sasaram</td>\n",
              "      <td>4</td>\n",
              "      <td>10th Pass</td>\n",
              "      <td>Graduate</td>\n",
              "      <td>Housewife</td>\n",
              "      <td>Business</td>\n",
              "      <td>NaN</td>\n",
              "      <td>CnA</td>\n",
              "      <td>NaN</td>\n",
              "      <td>Techniche</td>\n",
              "      <td>Brahmaputra</td>\n",
              "      <td>3</td>\n",
              "      <td>Yes</td>\n",
              "      <td>2.0</td>\n",
              "      <td>Below 90?</td>\n",
              "      <td>Single</td>\n",
              "      <td>1.0</td>\n",
              "      <td>Rarely</td>\n",
              "      <td>After 12 am</td>\n",
              "      <td>7</td>\n",
              "      <td>No</td>\n",
              "      <td>NaN</td>\n",
              "      <td>4</td>\n",
              "      <td>4.0</td>\n",
              "      <td>3.0</td>\n",
              "      <td>5.0</td>\n",
              "      <td>5.0</td>\n",
              "      <td>5.0</td>\n",
              "      <td>2.0</td>\n",
              "      <td>4.0</td>\n",
              "      <td>Group Study</td>\n",
              "      <td>Online content</td>\n",
              "      <td>4.0</td>\n",
              "      <td>Non-Core</td>\n",
              "      <td>7.20</td>\n",
              "    </tr>\n",
              "    <tr>\n",
              "      <th>4</th>\n",
              "      <td>Male</td>\n",
              "      <td>CL</td>\n",
              "      <td>No</td>\n",
              "      <td>CBSE</td>\n",
              "      <td>CBSE</td>\n",
              "      <td>Yes</td>\n",
              "      <td>patna</td>\n",
              "      <td>vmc</td>\n",
              "      <td>bihar</td>\n",
              "      <td>sasaram</td>\n",
              "      <td>4</td>\n",
              "      <td>10th Pass</td>\n",
              "      <td>Graduate</td>\n",
              "      <td>Housewife</td>\n",
              "      <td>Business</td>\n",
              "      <td>NaN</td>\n",
              "      <td>CnA</td>\n",
              "      <td>NaN</td>\n",
              "      <td>Techniche</td>\n",
              "      <td>Brahmaputra</td>\n",
              "      <td>3</td>\n",
              "      <td>Yes</td>\n",
              "      <td>2.0</td>\n",
              "      <td>Below 90?</td>\n",
              "      <td>Single</td>\n",
              "      <td>1.0</td>\n",
              "      <td>Rarely</td>\n",
              "      <td>After 12 am</td>\n",
              "      <td>7</td>\n",
              "      <td>No</td>\n",
              "      <td>NaN</td>\n",
              "      <td>4</td>\n",
              "      <td>4.0</td>\n",
              "      <td>3.0</td>\n",
              "      <td>5.0</td>\n",
              "      <td>5.0</td>\n",
              "      <td>5.0</td>\n",
              "      <td>2.0</td>\n",
              "      <td>4.0</td>\n",
              "      <td>Group Study</td>\n",
              "      <td>Online content</td>\n",
              "      <td>4.0</td>\n",
              "      <td>Non-Core</td>\n",
              "      <td>7.20</td>\n",
              "    </tr>\n",
              "    <tr>\n",
              "      <th>5</th>\n",
              "      <td>Male</td>\n",
              "      <td>ME</td>\n",
              "      <td>No</td>\n",
              "      <td>CBSE</td>\n",
              "      <td>CBSE</td>\n",
              "      <td>Yes</td>\n",
              "      <td>Kottayam</td>\n",
              "      <td>T.I.M.E</td>\n",
              "      <td>Maharashtra</td>\n",
              "      <td>Yavatmal</td>\n",
              "      <td>5</td>\n",
              "      <td>10th Pass</td>\n",
              "      <td>12th Pass</td>\n",
              "      <td>Housewife</td>\n",
              "      <td>Else</td>\n",
              "      <td>Everyday upto 0-2 hours</td>\n",
              "      <td>Robotics</td>\n",
              "      <td>NaN</td>\n",
              "      <td>NaN</td>\n",
              "      <td>Brahmaputra</td>\n",
              "      <td>1hour</td>\n",
              "      <td>Yes</td>\n",
              "      <td>3.0</td>\n",
              "      <td>Above 90?</td>\n",
              "      <td>Single</td>\n",
              "      <td>1.0</td>\n",
              "      <td>During Exams</td>\n",
              "      <td>After 10 pm</td>\n",
              "      <td>7</td>\n",
              "      <td>No</td>\n",
              "      <td>NaN</td>\n",
              "      <td>5</td>\n",
              "      <td>5.0</td>\n",
              "      <td>4.0</td>\n",
              "      <td>4.0</td>\n",
              "      <td>5.0</td>\n",
              "      <td>5.0</td>\n",
              "      <td>3.0</td>\n",
              "      <td>5.0</td>\n",
              "      <td>Group Study</td>\n",
              "      <td>Books</td>\n",
              "      <td>4.0</td>\n",
              "      <td>Non-Core</td>\n",
              "      <td>7.70</td>\n",
              "    </tr>\n",
              "    <tr>\n",
              "      <th>...</th>\n",
              "      <td>...</td>\n",
              "      <td>...</td>\n",
              "      <td>...</td>\n",
              "      <td>...</td>\n",
              "      <td>...</td>\n",
              "      <td>...</td>\n",
              "      <td>...</td>\n",
              "      <td>...</td>\n",
              "      <td>...</td>\n",
              "      <td>...</td>\n",
              "      <td>...</td>\n",
              "      <td>...</td>\n",
              "      <td>...</td>\n",
              "      <td>...</td>\n",
              "      <td>...</td>\n",
              "      <td>...</td>\n",
              "      <td>...</td>\n",
              "      <td>...</td>\n",
              "      <td>...</td>\n",
              "      <td>...</td>\n",
              "      <td>...</td>\n",
              "      <td>...</td>\n",
              "      <td>...</td>\n",
              "      <td>...</td>\n",
              "      <td>...</td>\n",
              "      <td>...</td>\n",
              "      <td>...</td>\n",
              "      <td>...</td>\n",
              "      <td>...</td>\n",
              "      <td>...</td>\n",
              "      <td>...</td>\n",
              "      <td>...</td>\n",
              "      <td>...</td>\n",
              "      <td>...</td>\n",
              "      <td>...</td>\n",
              "      <td>...</td>\n",
              "      <td>...</td>\n",
              "      <td>...</td>\n",
              "      <td>...</td>\n",
              "      <td>...</td>\n",
              "      <td>...</td>\n",
              "      <td>...</td>\n",
              "      <td>...</td>\n",
              "      <td>...</td>\n",
              "    </tr>\n",
              "    <tr>\n",
              "      <th>308</th>\n",
              "      <td>Male</td>\n",
              "      <td>BSBE</td>\n",
              "      <td>No</td>\n",
              "      <td>CBSE</td>\n",
              "      <td>State</td>\n",
              "      <td>Yes</td>\n",
              "      <td>Pune</td>\n",
              "      <td>PACE Institute</td>\n",
              "      <td>Maharashtra</td>\n",
              "      <td>Pune</td>\n",
              "      <td>4</td>\n",
              "      <td>Graduate</td>\n",
              "      <td>Post Graduate</td>\n",
              "      <td>Medical</td>\n",
              "      <td>Medical</td>\n",
              "      <td>Everyday upto 0-2 hours</td>\n",
              "      <td>FEC</td>\n",
              "      <td>Cadence</td>\n",
              "      <td>Techniche</td>\n",
              "      <td>Kapili</td>\n",
              "      <td>5-6</td>\n",
              "      <td>No</td>\n",
              "      <td>1.0</td>\n",
              "      <td>Above 90?</td>\n",
              "      <td>Committed</td>\n",
              "      <td>2.0</td>\n",
              "      <td>During Exams</td>\n",
              "      <td>After 12 am</td>\n",
              "      <td>6</td>\n",
              "      <td>Yes</td>\n",
              "      <td>NaN</td>\n",
              "      <td>3</td>\n",
              "      <td>5.0</td>\n",
              "      <td>4.0</td>\n",
              "      <td>4.0</td>\n",
              "      <td>5.0</td>\n",
              "      <td>5.0</td>\n",
              "      <td>3.0</td>\n",
              "      <td>4.0</td>\n",
              "      <td>Individual</td>\n",
              "      <td>Books</td>\n",
              "      <td>4.0</td>\n",
              "      <td>Core</td>\n",
              "      <td>8.20</td>\n",
              "    </tr>\n",
              "    <tr>\n",
              "      <th>309</th>\n",
              "      <td>Male</td>\n",
              "      <td>CE</td>\n",
              "      <td>No</td>\n",
              "      <td>CBSE</td>\n",
              "      <td>CBSE</td>\n",
              "      <td>Yes</td>\n",
              "      <td>Guwahati</td>\n",
              "      <td>Resonance</td>\n",
              "      <td>Assam</td>\n",
              "      <td>Guwahati</td>\n",
              "      <td>4</td>\n",
              "      <td>Graduate</td>\n",
              "      <td>Graduate</td>\n",
              "      <td>Govt</td>\n",
              "      <td>Govt</td>\n",
              "      <td>Everyday upto 0-2 hours</td>\n",
              "      <td>Coding Club</td>\n",
              "      <td>NaN</td>\n",
              "      <td>Techniche, Alcher</td>\n",
              "      <td>Kapili</td>\n",
              "      <td>0</td>\n",
              "      <td>Yes</td>\n",
              "      <td>1.0</td>\n",
              "      <td>Below 90?</td>\n",
              "      <td>Single</td>\n",
              "      <td>2.0</td>\n",
              "      <td>Rarely</td>\n",
              "      <td>After 12 am</td>\n",
              "      <td>6</td>\n",
              "      <td>No</td>\n",
              "      <td>NaN</td>\n",
              "      <td>2</td>\n",
              "      <td>5.0</td>\n",
              "      <td>4.0</td>\n",
              "      <td>5.0</td>\n",
              "      <td>5.0</td>\n",
              "      <td>5.0</td>\n",
              "      <td>1.0</td>\n",
              "      <td>3.0</td>\n",
              "      <td>Individual</td>\n",
              "      <td>Books</td>\n",
              "      <td>3.0</td>\n",
              "      <td>Non-Core</td>\n",
              "      <td>6.79</td>\n",
              "    </tr>\n",
              "    <tr>\n",
              "      <th>310</th>\n",
              "      <td>Male</td>\n",
              "      <td>CSE</td>\n",
              "      <td>No</td>\n",
              "      <td>State</td>\n",
              "      <td>State</td>\n",
              "      <td>No</td>\n",
              "      <td>Rajahmundry</td>\n",
              "      <td>Sri chaitanya</td>\n",
              "      <td>Andhra Pradesh</td>\n",
              "      <td>Rajahmundry</td>\n",
              "      <td>4</td>\n",
              "      <td>Post Graduate</td>\n",
              "      <td>Post Graduate</td>\n",
              "      <td>Govt</td>\n",
              "      <td>Govt</td>\n",
              "      <td>Irregular</td>\n",
              "      <td>NaN</td>\n",
              "      <td>NaN</td>\n",
              "      <td>Udgam</td>\n",
              "      <td>Kapili</td>\n",
              "      <td>5-6</td>\n",
              "      <td>No</td>\n",
              "      <td>4.0</td>\n",
              "      <td>Below 90?</td>\n",
              "      <td>Committed</td>\n",
              "      <td>3.0</td>\n",
              "      <td>Rarely</td>\n",
              "      <td>After 10 pm</td>\n",
              "      <td>7</td>\n",
              "      <td>Yes</td>\n",
              "      <td>NaN</td>\n",
              "      <td>3</td>\n",
              "      <td>3.0</td>\n",
              "      <td>2.0</td>\n",
              "      <td>2.0</td>\n",
              "      <td>3.0</td>\n",
              "      <td>5.0</td>\n",
              "      <td>1.0</td>\n",
              "      <td>1.0</td>\n",
              "      <td>Group Study</td>\n",
              "      <td>Online content</td>\n",
              "      <td>5.0</td>\n",
              "      <td>Core</td>\n",
              "      <td>6.30</td>\n",
              "    </tr>\n",
              "    <tr>\n",
              "      <th>311</th>\n",
              "      <td>Male</td>\n",
              "      <td>BSBE</td>\n",
              "      <td>Yes</td>\n",
              "      <td>CBSE</td>\n",
              "      <td>State</td>\n",
              "      <td>Yes</td>\n",
              "      <td>Kota</td>\n",
              "      <td>Resonance</td>\n",
              "      <td>Rajasthan</td>\n",
              "      <td>Kuchaman city</td>\n",
              "      <td>5</td>\n",
              "      <td>&lt;10th Pass</td>\n",
              "      <td>Post Graduate</td>\n",
              "      <td>Housewife</td>\n",
              "      <td>Govt</td>\n",
              "      <td>Irregular</td>\n",
              "      <td>FEC, Aero</td>\n",
              "      <td>NaN</td>\n",
              "      <td>Alcher</td>\n",
              "      <td>Kapili</td>\n",
              "      <td>7</td>\n",
              "      <td>Yes</td>\n",
              "      <td>5.0</td>\n",
              "      <td>Below 90?</td>\n",
              "      <td>Complicated</td>\n",
              "      <td>5.0</td>\n",
              "      <td>During Exams</td>\n",
              "      <td>After 2 am</td>\n",
              "      <td>5</td>\n",
              "      <td>No</td>\n",
              "      <td>Drinking, Smoking, Weed</td>\n",
              "      <td>3</td>\n",
              "      <td>1.0</td>\n",
              "      <td>1.0</td>\n",
              "      <td>1.0</td>\n",
              "      <td>1.0</td>\n",
              "      <td>1.0</td>\n",
              "      <td>1.0</td>\n",
              "      <td>1.0</td>\n",
              "      <td>Group Study</td>\n",
              "      <td>Online content</td>\n",
              "      <td>1.0</td>\n",
              "      <td>Non-Core</td>\n",
              "      <td>5.30</td>\n",
              "    </tr>\n",
              "    <tr>\n",
              "      <th>312</th>\n",
              "      <td>Male</td>\n",
              "      <td>EP</td>\n",
              "      <td>Yes</td>\n",
              "      <td>State</td>\n",
              "      <td>State</td>\n",
              "      <td>No</td>\n",
              "      <td>None</td>\n",
              "      <td>None</td>\n",
              "      <td>Maharashtra</td>\n",
              "      <td>Karanja</td>\n",
              "      <td>4</td>\n",
              "      <td>10th Pass</td>\n",
              "      <td>12th Pass</td>\n",
              "      <td>Housewife</td>\n",
              "      <td>Govt</td>\n",
              "      <td>Everyday upto 0-2 hours</td>\n",
              "      <td>Electronics, Coding Club</td>\n",
              "      <td>NaN</td>\n",
              "      <td>NaN</td>\n",
              "      <td>Kapili</td>\n",
              "      <td>3hrs</td>\n",
              "      <td>No</td>\n",
              "      <td>3.0</td>\n",
              "      <td>Above 90?</td>\n",
              "      <td>Single</td>\n",
              "      <td>0.0</td>\n",
              "      <td>Rarely</td>\n",
              "      <td>After 12 am</td>\n",
              "      <td>6</td>\n",
              "      <td>No</td>\n",
              "      <td>NaN</td>\n",
              "      <td>1</td>\n",
              "      <td>1.0</td>\n",
              "      <td>1.0</td>\n",
              "      <td>1.0</td>\n",
              "      <td>1.0</td>\n",
              "      <td>1.0</td>\n",
              "      <td>1.0</td>\n",
              "      <td>2.0</td>\n",
              "      <td>Group Study</td>\n",
              "      <td>Online content</td>\n",
              "      <td>4.0</td>\n",
              "      <td>Core</td>\n",
              "      <td>8.65</td>\n",
              "    </tr>\n",
              "  </tbody>\n",
              "</table>\n",
              "<p>312 rows × 44 columns</p>\n",
              "</div>"
            ],
            "text/plain": [
              "      Sex Branch Dropper? 10th Board 12th Board Coaching  Coaching City  \\\n",
              "1    Male   BSBE       No       CBSE       CBSE        No           NaN   \n",
              "2    Male   BSBE       No       CBSE      State       Yes        Indore   \n",
              "3    Male     CL       No       CBSE       CBSE       Yes         patna   \n",
              "4    Male     CL       No       CBSE       CBSE       Yes         patna   \n",
              "5    Male     ME       No       CBSE       CBSE       Yes      Kottayam   \n",
              "..    ...    ...      ...        ...        ...       ...           ...   \n",
              "308  Male   BSBE       No       CBSE      State       Yes          Pune   \n",
              "309  Male     CE       No       CBSE       CBSE       Yes      Guwahati   \n",
              "310  Male    CSE       No      State      State        No   Rajahmundry   \n",
              "311  Male   BSBE      Yes       CBSE      State       Yes          Kota   \n",
              "312  Male     EP      Yes      State      State        No          None   \n",
              "\n",
              "       Coaching Name      Home State      Home City  Family Size  \\\n",
              "1                NaN       Rajasthan        Bikaner            9   \n",
              "2              Allen  Madhya Pradesh      Maheshwar            6   \n",
              "3                vmc           bihar        sasaram            4   \n",
              "4                vmc           bihar        sasaram            4   \n",
              "5            T.I.M.E     Maharashtra       Yavatmal            5   \n",
              "..               ...             ...            ...          ...   \n",
              "308  PACE Institute     Maharashtra            Pune            4   \n",
              "309        Resonance           Assam       Guwahati            4   \n",
              "310    Sri chaitanya  Andhra Pradesh    Rajahmundry            4   \n",
              "311        Resonance       Rajasthan  Kuchaman city            5   \n",
              "312             None     Maharashtra        Karanja            4   \n",
              "\n",
              "    Mom's Education Dad's Education  Mom's Job Dad's Job  \\\n",
              "1     Post Graduate   Post Graduate  Housewife  Business   \n",
              "2          Graduate   Post Graduate  Housewife      Govt   \n",
              "3         10th Pass        Graduate  Housewife  Business   \n",
              "4         10th Pass        Graduate  Housewife  Business   \n",
              "5         10th Pass       12th Pass  Housewife      Else   \n",
              "..              ...             ...        ...       ...   \n",
              "308        Graduate   Post Graduate    Medical   Medical   \n",
              "309        Graduate        Graduate       Govt      Govt   \n",
              "310   Post Graduate   Post Graduate       Govt      Govt   \n",
              "311      <10th Pass   Post Graduate  Housewife      Govt   \n",
              "312       10th Pass       12th Pass  Housewife      Govt   \n",
              "\n",
              "                 Study Time? Which Technical Clubs are you part of ?  \\\n",
              "1                  Irregular                          CnA, Quiz club   \n",
              "2    Everyday upto 2-4 hours                               CnA, Aero   \n",
              "3                        NaN                                     CnA   \n",
              "4                        NaN                                     CnA   \n",
              "5    Everyday upto 0-2 hours                                Robotics   \n",
              "..                       ...                                     ...   \n",
              "308  Everyday upto 0-2 hours                                     FEC   \n",
              "309  Everyday upto 0-2 hours                             Coding Club   \n",
              "310                Irregular                                     NaN   \n",
              "311                Irregular                               FEC, Aero   \n",
              "312  Everyday upto 0-2 hours                Electronics, Coding Club   \n",
              "\n",
              "    Which Cultural Clubs are you part of? Member of Fests' organizing team?  \\\n",
              "1                                  Debsoc                         Techniche   \n",
              "2                                     NaN                               NaN   \n",
              "3                                     NaN                         Techniche   \n",
              "4                                     NaN                         Techniche   \n",
              "5                                     NaN                               NaN   \n",
              "..                                    ...                               ...   \n",
              "308                               Cadence                         Techniche   \n",
              "309                                   NaN                 Techniche, Alcher   \n",
              "310                                   NaN                             Udgam   \n",
              "311                                   NaN                            Alcher   \n",
              "312                                   NaN                               NaN   \n",
              "\n",
              "         Hostel?  \\\n",
              "1          Umiam   \n",
              "2         Kapili   \n",
              "3    Brahmaputra   \n",
              "4    Brahmaputra   \n",
              "5    Brahmaputra   \n",
              "..           ...   \n",
              "308       Kapili   \n",
              "309       Kapili   \n",
              "310       Kapili   \n",
              "311       Kapili   \n",
              "312       Kapili   \n",
              "\n",
              "    At the time of Spardha/Kirti/Manthan, approx. time given per day? (hours)  \\\n",
              "1                                                  6-7                          \n",
              "2                                               5 to 6                          \n",
              "3                                                    3                          \n",
              "4                                                    3                          \n",
              "5                                                1hour                          \n",
              "..                                                 ...                          \n",
              "308                                                5-6                          \n",
              "309                                                  0                          \n",
              "310                                                5-6                          \n",
              "311                                                  7                          \n",
              "312                                               3hrs                          \n",
              "\n",
              "    Have you taken an educational loan?   \\\n",
              "1                                     No   \n",
              "2                                     No   \n",
              "3                                    Yes   \n",
              "4                                    Yes   \n",
              "5                                    Yes   \n",
              "..                                   ...   \n",
              "308                                   No   \n",
              "309                                  Yes   \n",
              "310                                   No   \n",
              "311                                  Yes   \n",
              "312                                   No   \n",
              "\n",
              "     Time spent outside your room[except classes]? (daily average, in hours)  \\\n",
              "1                                                 12.0                         \n",
              "2                                                  4.0                         \n",
              "3                                                  2.0                         \n",
              "4                                                  2.0                         \n",
              "5                                                  3.0                         \n",
              "..                                                 ...                         \n",
              "308                                                1.0                         \n",
              "309                                                1.0                         \n",
              "310                                                4.0                         \n",
              "311                                                5.0                         \n",
              "312                                                3.0                         \n",
              "\n",
              "    Attendance? Relationship status?  \\\n",
              "1     Below 90?               Single   \n",
              "2     Above 90?               Single   \n",
              "3     Below 90?               Single   \n",
              "4     Below 90?               Single   \n",
              "5     Above 90?               Single   \n",
              "..          ...                  ...   \n",
              "308   Above 90?            Committed   \n",
              "309   Below 90?               Single   \n",
              "310   Below 90?            Committed   \n",
              "311   Below 90?          Complicated   \n",
              "312   Above 90?               Single   \n",
              "\n",
              "     Time spent per day in gaming, tvseries, movies, other leisure activities ?(hours)  \\\n",
              "1                                                  2.0                                   \n",
              "2                                                  1.0                                   \n",
              "3                                                  1.0                                   \n",
              "4                                                  1.0                                   \n",
              "5                                                  1.0                                   \n",
              "..                                                 ...                                   \n",
              "308                                                2.0                                   \n",
              "309                                                2.0                                   \n",
              "310                                                3.0                                   \n",
              "311                                                5.0                                   \n",
              "312                                                0.0                                   \n",
              "\n",
              "         Library? When do you sleep? Sleep Duration(Hrs)?  \\\n",
              "1    During Exams        After 12 am                    7   \n",
              "2          Rarely        After 12 am                    6   \n",
              "3          Rarely        After 12 am                    7   \n",
              "4          Rarely        After 12 am                    7   \n",
              "5    During Exams        After 10 pm                    7   \n",
              "..            ...                ...                  ...   \n",
              "308  During Exams        After 12 am                    6   \n",
              "309        Rarely        After 12 am                    6   \n",
              "310        Rarely        After 10 pm                    7   \n",
              "311  During Exams         After 2 am                    5   \n",
              "312        Rarely        After 12 am                    6   \n",
              "\n",
              "    Do you sleep during the day?               Addiction?  \\\n",
              "1                             No                      NaN   \n",
              "2                             No                      NaN   \n",
              "3                             No                      NaN   \n",
              "4                             No                      NaN   \n",
              "5                             No                      NaN   \n",
              "..                           ...                      ...   \n",
              "308                          Yes                      NaN   \n",
              "309                           No                      NaN   \n",
              "310                          Yes                      NaN   \n",
              "311                           No  Drinking, Smoking, Weed   \n",
              "312                           No                      NaN   \n",
              "\n",
              "     Relation with TA ? (on the scale of 1 to 5)  Lab taken seriously   \\\n",
              "1                                              4                   4.0   \n",
              "2                                              4                   4.0   \n",
              "3                                              4                   4.0   \n",
              "4                                              4                   4.0   \n",
              "5                                              5                   5.0   \n",
              "..                                           ...                   ...   \n",
              "308                                            3                   5.0   \n",
              "309                                            2                   5.0   \n",
              "310                                            3                   3.0   \n",
              "311                                            3                   1.0   \n",
              "312                                            1                   1.0   \n",
              "\n",
              "     Tut taken seriously   Quiz taken seriously   Midsem taken seriously   \\\n",
              "1                     3.0                    5.0                      5.0   \n",
              "2                     3.0                    4.0                      5.0   \n",
              "3                     3.0                    5.0                      5.0   \n",
              "4                     3.0                    5.0                      5.0   \n",
              "5                     4.0                    4.0                      5.0   \n",
              "..                    ...                    ...                      ...   \n",
              "308                   4.0                    4.0                      5.0   \n",
              "309                   4.0                    5.0                      5.0   \n",
              "310                   2.0                    2.0                      3.0   \n",
              "311                   1.0                    1.0                      1.0   \n",
              "312                   1.0                    1.0                      1.0   \n",
              "\n",
              "     Endsem taken seriously   Aiming for branch change  \\\n",
              "1                        5.0                       2.0   \n",
              "2                        5.0                       4.0   \n",
              "3                        5.0                       2.0   \n",
              "4                        5.0                       2.0   \n",
              "5                        5.0                       3.0   \n",
              "..                       ...                       ...   \n",
              "308                      5.0                       3.0   \n",
              "309                      5.0                       1.0   \n",
              "310                      5.0                       1.0   \n",
              "311                      1.0                       1.0   \n",
              "312                      1.0                       1.0   \n",
              "\n",
              "     Attention Level(During Lectures) Group Study/Individual   \\\n",
              "1                                 1.0              Individual   \n",
              "2                                 3.0              Individual   \n",
              "3                                 4.0             Group Study   \n",
              "4                                 4.0             Group Study   \n",
              "5                                 5.0             Group Study   \n",
              "..                                ...                     ...   \n",
              "308                               4.0              Individual   \n",
              "309                               3.0              Individual   \n",
              "310                               1.0             Group Study   \n",
              "311                               1.0             Group Study   \n",
              "312                               2.0             Group Study   \n",
              "\n",
              "    Study Material Preferred  Interest in branch? Core/Non-Core  CPI   \n",
              "1             Online content                  3.0      Non-Core  7.56  \n",
              "2             Online content                  4.0          Core  7.40  \n",
              "3             Online content                  4.0      Non-Core  7.20  \n",
              "4             Online content                  4.0      Non-Core  7.20  \n",
              "5                      Books                  4.0      Non-Core  7.70  \n",
              "..                       ...                  ...           ...   ...  \n",
              "308                    Books                  4.0          Core  8.20  \n",
              "309                    Books                  3.0      Non-Core  6.79  \n",
              "310           Online content                  5.0          Core  6.30  \n",
              "311           Online content                  1.0      Non-Core  5.30  \n",
              "312           Online content                  4.0          Core  8.65  \n",
              "\n",
              "[312 rows x 44 columns]"
            ]
          },
          "metadata": {
            "tags": []
          },
          "execution_count": 9
        }
      ]
    },
    {
      "cell_type": "code",
      "metadata": {
        "colab_type": "code",
        "id": "A3x1ivXG2cmI",
        "outputId": "93ad4a2c-fb8c-4ed1-ba33-a04d92bd8a49",
        "colab": {
          "base_uri": "https://localhost:8080/",
          "height": 817
        }
      },
      "source": [
        "data.isna().sum()"
      ],
      "execution_count": 10,
      "outputs": [
        {
          "output_type": "execute_result",
          "data": {
            "text/plain": [
              "Sex                                                                                    0\n",
              "Branch                                                                                 0\n",
              "Dropper?                                                                               0\n",
              "10th Board                                                                             0\n",
              "12th Board                                                                             0\n",
              "Coaching                                                                               0\n",
              "Coaching City                                                                          4\n",
              "Coaching Name                                                                          5\n",
              "Home State                                                                             0\n",
              "Home City                                                                              0\n",
              "Family Size                                                                            0\n",
              "Mom's Education                                                                        1\n",
              "Dad's Education                                                                        0\n",
              "Mom's Job                                                                              0\n",
              "Dad's Job                                                                              0\n",
              "Study Time?                                                                            2\n",
              "Which Technical Clubs are you part of ?                                               89\n",
              "Which Cultural Clubs are you part of?                                                216\n",
              "Member of Fests' organizing team?                                                     81\n",
              "Hostel?                                                                                0\n",
              "At the time of Spardha/Kirti/Manthan, approx. time given per day? (hours)              0\n",
              "Have you taken an educational loan?                                                    0\n",
              "Time spent outside your room[except classes]? (daily average, in hours)                1\n",
              "Attendance?                                                                            0\n",
              "Relationship status?                                                                   0\n",
              "Time spent per day in gaming, tvseries, movies, other leisure activities ?(hours)      0\n",
              "Library?                                                                               0\n",
              "When do you sleep?                                                                     0\n",
              "Sleep Duration(Hrs)?                                                                   0\n",
              "Do you sleep during the day?                                                           0\n",
              "Addiction?                                                                           292\n",
              "Relation with TA ? (on the scale of 1 to 5)                                            0\n",
              "Lab taken seriously                                                                    0\n",
              "Tut taken seriously                                                                    0\n",
              "Quiz taken seriously                                                                   0\n",
              "Midsem taken seriously                                                                 0\n",
              "Endsem taken seriously                                                                 0\n",
              "Aiming for branch change                                                               0\n",
              "Attention Level(During Lectures)                                                       0\n",
              "Group Study/Individual                                                                 0\n",
              "Study Material Preferred                                                               0\n",
              "Interest in branch?                                                                    0\n",
              "Core/Non-Core                                                                          0\n",
              "CPI                                                                                    1\n",
              "dtype: int64"
            ]
          },
          "metadata": {
            "tags": []
          },
          "execution_count": 10
        }
      ]
    },
    {
      "cell_type": "code",
      "metadata": {
        "id": "M_gN1XR1k_AZ",
        "colab_type": "code",
        "colab": {}
      },
      "source": [
        "#Finding numerical Features\n",
        "\n",
        "numeric_data = data.select_dtypes(include = np.number)\n",
        "\n",
        "#Finding categorial Features\n",
        "\n",
        "categorial_data = data.select_dtypes(exclude = np.number)\n"
      ],
      "execution_count": 0,
      "outputs": []
    },
    {
      "cell_type": "code",
      "metadata": {
        "id": "fb82LaKvlGGq",
        "colab_type": "code",
        "outputId": "b6a88411-bf23-44e1-c46d-98a1ad03aa60",
        "colab": {
          "base_uri": "https://localhost:8080/",
          "height": 568
        }
      },
      "source": [
        "list(categorial_data)"
      ],
      "execution_count": 12,
      "outputs": [
        {
          "output_type": "execute_result",
          "data": {
            "text/plain": [
              "['Sex',\n",
              " 'Branch',\n",
              " 'Dropper?',\n",
              " '10th Board',\n",
              " '12th Board',\n",
              " 'Coaching ',\n",
              " 'Coaching City',\n",
              " 'Coaching Name',\n",
              " 'Home State',\n",
              " 'Home City',\n",
              " \"Mom's Education\",\n",
              " \"Dad's Education\",\n",
              " \"Mom's Job\",\n",
              " \"Dad's Job\",\n",
              " 'Study Time?',\n",
              " 'Which Technical Clubs are you part of ?',\n",
              " 'Which Cultural Clubs are you part of?',\n",
              " \"Member of Fests' organizing team?\",\n",
              " 'Hostel?',\n",
              " 'At the time of Spardha/Kirti/Manthan, approx. time given per day? (hours)',\n",
              " 'Have you taken an educational loan? ',\n",
              " 'Attendance?',\n",
              " 'Relationship status?',\n",
              " 'Library?',\n",
              " 'When do you sleep?',\n",
              " 'Sleep Duration(Hrs)?',\n",
              " 'Do you sleep during the day?',\n",
              " 'Addiction?',\n",
              " 'Group Study/Individual ',\n",
              " 'Study Material Preferred',\n",
              " 'Core/Non-Core']"
            ]
          },
          "metadata": {
            "tags": []
          },
          "execution_count": 12
        }
      ]
    },
    {
      "cell_type": "markdown",
      "metadata": {
        "id": "xSHPvye4habU",
        "colab_type": "text"
      },
      "source": [
        "## SEX"
      ]
    },
    {
      "cell_type": "code",
      "metadata": {
        "id": "bdYjLPTCfVxj",
        "colab_type": "code",
        "outputId": "74924093-fb18-4ad1-99e9-dc36ba85d6ce",
        "colab": {
          "base_uri": "https://localhost:8080/",
          "height": 35
        }
      },
      "source": [
        "data['Sex'].unique()\n"
      ],
      "execution_count": 13,
      "outputs": [
        {
          "output_type": "execute_result",
          "data": {
            "text/plain": [
              "array(['Male', 'Female'], dtype=object)"
            ]
          },
          "metadata": {
            "tags": []
          },
          "execution_count": 13
        }
      ]
    },
    {
      "cell_type": "code",
      "metadata": {
        "id": "CXU_xvk-gkqv",
        "colab_type": "code",
        "colab": {}
      },
      "source": [
        "data.Sex.replace({'Male':1, 'Female':2}, inplace= True)"
      ],
      "execution_count": 0,
      "outputs": []
    },
    {
      "cell_type": "code",
      "metadata": {
        "id": "qo3xpWB0hLiu",
        "colab_type": "code",
        "outputId": "85139773-2854-4cc8-a4fe-0a6d00300947",
        "colab": {
          "base_uri": "https://localhost:8080/",
          "height": 35
        }
      },
      "source": [
        "data.Sex.unique()"
      ],
      "execution_count": 15,
      "outputs": [
        {
          "output_type": "execute_result",
          "data": {
            "text/plain": [
              "array([1, 2])"
            ]
          },
          "metadata": {
            "tags": []
          },
          "execution_count": 15
        }
      ]
    },
    {
      "cell_type": "code",
      "metadata": {
        "id": "Ky85wXM5lMam",
        "colab_type": "code",
        "colab": {}
      },
      "source": [
        "#Branch\n",
        "data.Branch.replace({'BSBE':1,'CL':2,'ME':3,'CSE':4,'CE':5,'EP':6,'MC':7,'CST':8,'ECE/EEE':9,'Design':0},inplace=True)\n"
      ],
      "execution_count": 0,
      "outputs": []
    },
    {
      "cell_type": "code",
      "metadata": {
        "id": "gOSDkfiTlhg-",
        "colab_type": "code",
        "outputId": "457455e2-c5ed-4fb6-b374-13fb9c0b19c1",
        "colab": {
          "base_uri": "https://localhost:8080/",
          "height": 35
        }
      },
      "source": [
        "data.Branch.unique()"
      ],
      "execution_count": 17,
      "outputs": [
        {
          "output_type": "execute_result",
          "data": {
            "text/plain": [
              "array([1, 2, 3, 4, 5, 6, 7, 8, 9, 0])"
            ]
          },
          "metadata": {
            "tags": []
          },
          "execution_count": 17
        }
      ]
    },
    {
      "cell_type": "code",
      "metadata": {
        "id": "ZGo1PNwZlluX",
        "colab_type": "code",
        "colab": {}
      },
      "source": [
        "# dropper\n",
        "data['Dropper?'].replace({'No': 0, 'Yes':1}, inplace=True)"
      ],
      "execution_count": 0,
      "outputs": []
    },
    {
      "cell_type": "code",
      "metadata": {
        "id": "fve41PLcllzk",
        "colab_type": "code",
        "colab": {}
      },
      "source": [
        "# 10th nd 12th board\n",
        "\n",
        "data['10th Board'].replace({'CBSE':1,'ICSE':2,'State':3},inplace=True)\n",
        "data['12th Board'].replace({'CBSE':1,'ICSE':2,'State':3},inplace=True)"
      ],
      "execution_count": 0,
      "outputs": []
    },
    {
      "cell_type": "code",
      "metadata": {
        "id": "JyXlStcill47",
        "colab_type": "code",
        "colab": {}
      },
      "source": [
        "# coaching\n",
        "\n",
        "data['Coaching '].replace({'No': 0, 'Yes':1}, inplace=True)"
      ],
      "execution_count": 0,
      "outputs": []
    },
    {
      "cell_type": "code",
      "metadata": {
        "id": "9EenovCIXRZ-",
        "colab_type": "code",
        "outputId": "66bef94f-30c0-416c-f550-8c46ae3d4498",
        "colab": {
          "base_uri": "https://localhost:8080/",
          "height": 52
        }
      },
      "source": [
        "data[\"Mom's Education\"].unique()"
      ],
      "execution_count": 21,
      "outputs": [
        {
          "output_type": "execute_result",
          "data": {
            "text/plain": [
              "array(['Post Graduate', 'Graduate', '10th Pass', nan, '12th Pass',\n",
              "       '<10th Pass'], dtype=object)"
            ]
          },
          "metadata": {
            "tags": []
          },
          "execution_count": 21
        }
      ]
    },
    {
      "cell_type": "code",
      "metadata": {
        "id": "E_TcUzgOXKZE",
        "colab_type": "code",
        "colab": {}
      },
      "source": [
        "data[\"Dad's Education\"].dropna(inplace = True)"
      ],
      "execution_count": 0,
      "outputs": []
    },
    {
      "cell_type": "code",
      "metadata": {
        "id": "t0YthEk2lmJW",
        "colab_type": "code",
        "colab": {}
      },
      "source": [
        "data['Dad\\'s Education'].replace({'Post Graduate':1,'Graduate':2,'10th Pass':3,'12th Pass':4,'< 10th Pass':5},inplace= True)"
      ],
      "execution_count": 0,
      "outputs": []
    },
    {
      "cell_type": "code",
      "metadata": {
        "id": "N7bWIbkSWNqk",
        "colab_type": "code",
        "outputId": "f74f3cb4-8644-48e7-fd27-b46c0b299a5a",
        "colab": {
          "base_uri": "https://localhost:8080/",
          "height": 35
        }
      },
      "source": [
        "data['Dad\\'s Education'].unique()"
      ],
      "execution_count": 24,
      "outputs": [
        {
          "output_type": "execute_result",
          "data": {
            "text/plain": [
              "array([1, 2, 4, 3, 5])"
            ]
          },
          "metadata": {
            "tags": []
          },
          "execution_count": 24
        }
      ]
    },
    {
      "cell_type": "code",
      "metadata": {
        "id": "fmlTSaTKlmO9",
        "colab_type": "code",
        "outputId": "0f6b295c-1b04-47d5-a65a-80b786e8ba1c",
        "colab": {
          "base_uri": "https://localhost:8080/",
          "height": 52
        }
      },
      "source": [
        "#mom nd dad job\n",
        "data[\"Mom's Job\"].dropna(inplace = True)\n",
        "data[\"Dad's Job\"].dropna(inplace = True)\n",
        "data['Mom\\'s Job'].unique()\n"
      ],
      "execution_count": 25,
      "outputs": [
        {
          "output_type": "execute_result",
          "data": {
            "text/plain": [
              "array(['Housewife', 'Govt', 'Medical', 'Else', 'Management & Finance',\n",
              "       'Technical', 'Business', 'Artist', 'Law'], dtype=object)"
            ]
          },
          "metadata": {
            "tags": []
          },
          "execution_count": 25
        }
      ]
    },
    {
      "cell_type": "code",
      "metadata": {
        "id": "b2xzS1U9lmNh",
        "colab_type": "code",
        "colab": {}
      },
      "source": [
        "data['Mom\\'s Job'].replace({'Housewife':1,'Govt':2,'Medical':3,'Management & Finance':4,'Technical':5,'Business':6,'Artist':7, 'Law':8,'Else':0},inplace=True)"
      ],
      "execution_count": 0,
      "outputs": []
    },
    {
      "cell_type": "code",
      "metadata": {
        "id": "ff6OCPOsWjjl",
        "colab_type": "code",
        "outputId": "10881999-00cb-47c1-d2b0-9f99a227237e",
        "colab": {
          "base_uri": "https://localhost:8080/",
          "height": 35
        }
      },
      "source": [
        "data['Mom\\'s Job'].unique()"
      ],
      "execution_count": 27,
      "outputs": [
        {
          "output_type": "execute_result",
          "data": {
            "text/plain": [
              "array([1, 2, 3, 0, 4, 5, 6, 7, 8])"
            ]
          },
          "metadata": {
            "tags": []
          },
          "execution_count": 27
        }
      ]
    },
    {
      "cell_type": "code",
      "metadata": {
        "id": "47la2TN1lmHv",
        "colab_type": "code",
        "outputId": "2895f07d-b4c0-4fda-dd91-d2d85dddb02f",
        "colab": {
          "base_uri": "https://localhost:8080/",
          "height": 52
        }
      },
      "source": [
        "data['Dad\\'s Job'].unique()"
      ],
      "execution_count": 28,
      "outputs": [
        {
          "output_type": "execute_result",
          "data": {
            "text/plain": [
              "array(['Business', 'Govt', 'Else', 'Medical', 'Management & Finance',\n",
              "       'Technical', 'Law', 'Artist'], dtype=object)"
            ]
          },
          "metadata": {
            "tags": []
          },
          "execution_count": 28
        }
      ]
    },
    {
      "cell_type": "code",
      "metadata": {
        "id": "vi57tM4SlmC1",
        "colab_type": "code",
        "colab": {}
      },
      "source": [
        "data['Dad\\'s Job'].replace({'Business':1, 'Govt':2, 'Else':0, 'Medical':3, 'Management & Finance':4,\n",
        "       'Technical':5, 'Law':6, 'Artist':7},inplace=True)"
      ],
      "execution_count": 0,
      "outputs": []
    },
    {
      "cell_type": "code",
      "metadata": {
        "id": "Os03_gw1Wqsp",
        "colab_type": "code",
        "outputId": "94052414-afda-46b6-b093-1e25b99a4b4e",
        "colab": {
          "base_uri": "https://localhost:8080/",
          "height": 35
        }
      },
      "source": [
        "data['Dad\\'s Job'].unique()"
      ],
      "execution_count": 30,
      "outputs": [
        {
          "output_type": "execute_result",
          "data": {
            "text/plain": [
              "array([1, 2, 0, 3, 4, 5, 6, 7])"
            ]
          },
          "metadata": {
            "tags": []
          },
          "execution_count": 30
        }
      ]
    },
    {
      "cell_type": "code",
      "metadata": {
        "id": "5amUyaJ2ll-C",
        "colab_type": "code",
        "colab": {}
      },
      "source": [
        "data['Study Time?'].fillna('Irregular', inplace=True)"
      ],
      "execution_count": 0,
      "outputs": []
    },
    {
      "cell_type": "code",
      "metadata": {
        "id": "0P-EwXjsll3Y",
        "colab_type": "code",
        "outputId": "a8a81eda-23c7-4c9f-a21b-fff5e69985c5",
        "colab": {
          "base_uri": "https://localhost:8080/",
          "height": 52
        }
      },
      "source": [
        "data['Study Time?'].unique()"
      ],
      "execution_count": 32,
      "outputs": [
        {
          "output_type": "execute_result",
          "data": {
            "text/plain": [
              "array(['Irregular', 'Everyday upto 2-4 hours', 'Everyday upto 0-2 hours'],\n",
              "      dtype=object)"
            ]
          },
          "metadata": {
            "tags": []
          },
          "execution_count": 32
        }
      ]
    },
    {
      "cell_type": "code",
      "metadata": {
        "id": "UsmGl9vVqwJA",
        "colab_type": "code",
        "colab": {}
      },
      "source": [
        "data['Study Time?'].replace({'Irregular':0, 'Everyday upto 2-4 hours':2, 'Everyday upto 0-2 hours':1},inplace=True)"
      ],
      "execution_count": 0,
      "outputs": []
    },
    {
      "cell_type": "code",
      "metadata": {
        "id": "XC7Lc28d5il8",
        "colab_type": "code",
        "outputId": "103e3dcb-da02-40bc-94bf-6d214d437c8c",
        "colab": {
          "base_uri": "https://localhost:8080/",
          "height": 35
        }
      },
      "source": [
        "data['Study Time?'].unique()"
      ],
      "execution_count": 34,
      "outputs": [
        {
          "output_type": "execute_result",
          "data": {
            "text/plain": [
              "array([0, 2, 1])"
            ]
          },
          "metadata": {
            "tags": []
          },
          "execution_count": 34
        }
      ]
    },
    {
      "cell_type": "code",
      "metadata": {
        "id": "UoIp1jfFqwTk",
        "colab_type": "code",
        "outputId": "670617c7-dae4-4188-e109-db59eaf56dac",
        "colab": {
          "base_uri": "https://localhost:8080/",
          "height": 888
        }
      },
      "source": [
        "data.info()"
      ],
      "execution_count": 35,
      "outputs": [
        {
          "output_type": "stream",
          "text": [
            "<class 'pandas.core.frame.DataFrame'>\n",
            "Int64Index: 312 entries, 1 to 312\n",
            "Data columns (total 44 columns):\n",
            "Sex                                                                                  312 non-null int64\n",
            "Branch                                                                               312 non-null int64\n",
            "Dropper?                                                                             312 non-null int64\n",
            "10th Board                                                                           312 non-null int64\n",
            "12th Board                                                                           312 non-null int64\n",
            "Coaching                                                                             312 non-null int64\n",
            "Coaching City                                                                        308 non-null object\n",
            "Coaching Name                                                                        307 non-null object\n",
            "Home State                                                                           312 non-null object\n",
            "Home City                                                                            312 non-null object\n",
            "Family Size                                                                          312 non-null int64\n",
            "Mom's Education                                                                      311 non-null object\n",
            "Dad's Education                                                                      312 non-null int64\n",
            "Mom's Job                                                                            312 non-null int64\n",
            "Dad's Job                                                                            312 non-null int64\n",
            "Study Time?                                                                          312 non-null int64\n",
            "Which Technical Clubs are you part of ?                                              223 non-null object\n",
            "Which Cultural Clubs are you part of?                                                96 non-null object\n",
            "Member of Fests' organizing team?                                                    231 non-null object\n",
            "Hostel?                                                                              312 non-null object\n",
            "At the time of Spardha/Kirti/Manthan, approx. time given per day? (hours)            312 non-null object\n",
            "Have you taken an educational loan?                                                  312 non-null object\n",
            "Time spent outside your room[except classes]? (daily average, in hours)              311 non-null float64\n",
            "Attendance?                                                                          312 non-null object\n",
            "Relationship status?                                                                 312 non-null object\n",
            "Time spent per day in gaming, tvseries, movies, other leisure activities ?(hours)    312 non-null float64\n",
            "Library?                                                                             312 non-null object\n",
            "When do you sleep?                                                                   312 non-null object\n",
            "Sleep Duration(Hrs)?                                                                 312 non-null object\n",
            "Do you sleep during the day?                                                         312 non-null object\n",
            "Addiction?                                                                           20 non-null object\n",
            "Relation with TA ? (on the scale of 1 to 5)                                          312 non-null int64\n",
            "Lab taken seriously                                                                  312 non-null float64\n",
            "Tut taken seriously                                                                  312 non-null float64\n",
            "Quiz taken seriously                                                                 312 non-null float64\n",
            "Midsem taken seriously                                                               312 non-null float64\n",
            "Endsem taken seriously                                                               312 non-null float64\n",
            "Aiming for branch change                                                             312 non-null float64\n",
            "Attention Level(During Lectures)                                                     312 non-null float64\n",
            "Group Study/Individual                                                               312 non-null object\n",
            "Study Material Preferred                                                             312 non-null object\n",
            "Interest in branch?                                                                  312 non-null float64\n",
            "Core/Non-Core                                                                        312 non-null object\n",
            "CPI                                                                                  311 non-null float64\n",
            "dtypes: float64(11), int64(12), object(21)\n",
            "memory usage: 109.7+ KB\n"
          ],
          "name": "stdout"
        }
      ]
    },
    {
      "cell_type": "code",
      "metadata": {
        "id": "qENFMFjtqwMq",
        "colab_type": "code",
        "outputId": "8795255b-f375-4034-e584-9ffadd08e515",
        "colab": {
          "base_uri": "https://localhost:8080/",
          "height": 35
        }
      },
      "source": [
        "data['Have you taken an educational loan? '].unique()"
      ],
      "execution_count": 36,
      "outputs": [
        {
          "output_type": "execute_result",
          "data": {
            "text/plain": [
              "array(['No', 'Yes'], dtype=object)"
            ]
          },
          "metadata": {
            "tags": []
          },
          "execution_count": 36
        }
      ]
    },
    {
      "cell_type": "code",
      "metadata": {
        "id": "wDE0z8ra3PlB",
        "colab_type": "code",
        "colab": {}
      },
      "source": [
        "data['Have you taken an educational loan? '].replace({'Yes':1,'No':0},inplace=True)"
      ],
      "execution_count": 0,
      "outputs": []
    },
    {
      "cell_type": "code",
      "metadata": {
        "id": "q7TQhN3G3Pqc",
        "colab_type": "code",
        "outputId": "781fb26c-24ae-4c1d-f0cc-f39706f5abbe",
        "colab": {
          "base_uri": "https://localhost:8080/",
          "height": 35
        }
      },
      "source": [
        "data['Attendance?'].unique()"
      ],
      "execution_count": 38,
      "outputs": [
        {
          "output_type": "execute_result",
          "data": {
            "text/plain": [
              "array(['Below 90?', 'Above 90?', 'Below 75?', 'Below 50?'], dtype=object)"
            ]
          },
          "metadata": {
            "tags": []
          },
          "execution_count": 38
        }
      ]
    },
    {
      "cell_type": "code",
      "metadata": {
        "id": "qRy5qMld3Pw4",
        "colab_type": "code",
        "colab": {}
      },
      "source": [
        "data['Attendance?'].replace({'Below 90?':3, 'Above 90?':4, 'Below 75?':2, 'Below 50?':1},inplace=True)"
      ],
      "execution_count": 0,
      "outputs": []
    },
    {
      "cell_type": "code",
      "metadata": {
        "id": "OW6Mln_v3Pve",
        "colab_type": "code",
        "outputId": "b54ca431-a7a1-439b-f1cc-86f26a5f52d3",
        "colab": {
          "base_uri": "https://localhost:8080/",
          "height": 568
        }
      },
      "source": [
        "list(categorial_data)"
      ],
      "execution_count": 40,
      "outputs": [
        {
          "output_type": "execute_result",
          "data": {
            "text/plain": [
              "['Sex',\n",
              " 'Branch',\n",
              " 'Dropper?',\n",
              " '10th Board',\n",
              " '12th Board',\n",
              " 'Coaching ',\n",
              " 'Coaching City',\n",
              " 'Coaching Name',\n",
              " 'Home State',\n",
              " 'Home City',\n",
              " \"Mom's Education\",\n",
              " \"Dad's Education\",\n",
              " \"Mom's Job\",\n",
              " \"Dad's Job\",\n",
              " 'Study Time?',\n",
              " 'Which Technical Clubs are you part of ?',\n",
              " 'Which Cultural Clubs are you part of?',\n",
              " \"Member of Fests' organizing team?\",\n",
              " 'Hostel?',\n",
              " 'At the time of Spardha/Kirti/Manthan, approx. time given per day? (hours)',\n",
              " 'Have you taken an educational loan? ',\n",
              " 'Attendance?',\n",
              " 'Relationship status?',\n",
              " 'Library?',\n",
              " 'When do you sleep?',\n",
              " 'Sleep Duration(Hrs)?',\n",
              " 'Do you sleep during the day?',\n",
              " 'Addiction?',\n",
              " 'Group Study/Individual ',\n",
              " 'Study Material Preferred',\n",
              " 'Core/Non-Core']"
            ]
          },
          "metadata": {
            "tags": []
          },
          "execution_count": 40
        }
      ]
    },
    {
      "cell_type": "code",
      "metadata": {
        "id": "Fzkm9Jju3PpD",
        "colab_type": "code",
        "outputId": "aba1aee5-d71e-4243-c558-e2474b356add",
        "colab": {
          "base_uri": "https://localhost:8080/",
          "height": 35
        }
      },
      "source": [
        "data['Relationship status?'].unique()"
      ],
      "execution_count": 41,
      "outputs": [
        {
          "output_type": "execute_result",
          "data": {
            "text/plain": [
              "array(['Single', 'Complicated', 'Committed'], dtype=object)"
            ]
          },
          "metadata": {
            "tags": []
          },
          "execution_count": 41
        }
      ]
    },
    {
      "cell_type": "code",
      "metadata": {
        "id": "Ct2vQAdP3Ph_",
        "colab_type": "code",
        "colab": {}
      },
      "source": [
        "data['Relationship status?'].replace({'Single':1, 'Complicated':2, 'Committed':3},inplace=True)"
      ],
      "execution_count": 0,
      "outputs": []
    },
    {
      "cell_type": "code",
      "metadata": {
        "id": "kBZ_N4-eqwGr",
        "colab_type": "code",
        "outputId": "08907734-2168-4816-e488-c93bc60a1ed9",
        "colab": {
          "base_uri": "https://localhost:8080/",
          "height": 35
        }
      },
      "source": [
        "data['Library?'].unique()"
      ],
      "execution_count": 43,
      "outputs": [
        {
          "output_type": "execute_result",
          "data": {
            "text/plain": [
              "array(['During Exams', 'Rarely', 'Often'], dtype=object)"
            ]
          },
          "metadata": {
            "tags": []
          },
          "execution_count": 43
        }
      ]
    },
    {
      "cell_type": "code",
      "metadata": {
        "id": "O2tsftRQllx9",
        "colab_type": "code",
        "colab": {}
      },
      "source": [
        "data['Library?'].replace({'During Exams':2, 'Rarely':0, 'Often':1},inplace=True)"
      ],
      "execution_count": 0,
      "outputs": []
    },
    {
      "cell_type": "code",
      "metadata": {
        "id": "NXKuiPifllso",
        "colab_type": "code",
        "outputId": "4ba1ff03-f25b-4fee-ae6d-9282d934b913",
        "colab": {
          "base_uri": "https://localhost:8080/",
          "height": 52
        }
      },
      "source": [
        "data['When do you sleep?'].unique()"
      ],
      "execution_count": 45,
      "outputs": [
        {
          "output_type": "execute_result",
          "data": {
            "text/plain": [
              "array(['After 12 am', 'After 10 pm', 'After 2 am', 'Before 10 pm', 3,\n",
              "       'Around 1', 'Never', '6:30 am', 'Around 12'], dtype=object)"
            ]
          },
          "metadata": {
            "tags": []
          },
          "execution_count": 45
        }
      ]
    },
    {
      "cell_type": "code",
      "metadata": {
        "id": "yyhBkFkZ9_QD",
        "colab_type": "code",
        "colab": {}
      },
      "source": [
        "data['When do you sleep?'].replace({'Never':'After 12 am'},inplace = True)"
      ],
      "execution_count": 0,
      "outputs": []
    },
    {
      "cell_type": "code",
      "metadata": {
        "id": "rYUAz7hd91wO",
        "colab_type": "code",
        "colab": {}
      },
      "source": [
        "data['When do you sleep?'].replace({'After 12 am':12, 'After 10 pm':10, 'After 2 am':2, 'Before 10 pm':10,'Around 1':1, '6:30 am':6, 'Around 12':11},inplace = True)"
      ],
      "execution_count": 0,
      "outputs": []
    },
    {
      "cell_type": "code",
      "metadata": {
        "id": "3JypbEuv_MYe",
        "colab_type": "code",
        "outputId": "be57a268-6f58-4bcd-990c-bd3cbce2ca88",
        "colab": {
          "base_uri": "https://localhost:8080/",
          "height": 35
        }
      },
      "source": [
        "data['When do you sleep?'].unique()"
      ],
      "execution_count": 48,
      "outputs": [
        {
          "output_type": "execute_result",
          "data": {
            "text/plain": [
              "array([12, 10,  2,  3,  1,  6, 11])"
            ]
          },
          "metadata": {
            "tags": []
          },
          "execution_count": 48
        }
      ]
    },
    {
      "cell_type": "code",
      "metadata": {
        "id": "tIJRGV8W6hMI",
        "colab_type": "code",
        "outputId": "a9d07a2e-8ef8-4000-9c72-35c22c74cbc8",
        "colab": {
          "base_uri": "https://localhost:8080/",
          "height": 35
        }
      },
      "source": [
        "data['Sleep Duration(Hrs)?'].unique()"
      ],
      "execution_count": 49,
      "outputs": [
        {
          "output_type": "execute_result",
          "data": {
            "text/plain": [
              "array([7, 6, 5, '<=4', '>=8'], dtype=object)"
            ]
          },
          "metadata": {
            "tags": []
          },
          "execution_count": 49
        }
      ]
    },
    {
      "cell_type": "code",
      "metadata": {
        "id": "03D1YtrT6hRr",
        "colab_type": "code",
        "colab": {}
      },
      "source": [
        "data['Sleep Duration(Hrs)?'].replace({'<=4':4,'>=8':8},inplace=True)"
      ],
      "execution_count": 0,
      "outputs": []
    },
    {
      "cell_type": "code",
      "metadata": {
        "id": "D15myNIe6hXQ",
        "colab_type": "code",
        "outputId": "3ca85565-7a93-4371-807b-3a63696c54f7",
        "colab": {
          "base_uri": "https://localhost:8080/",
          "height": 35
        }
      },
      "source": [
        "data['Do you sleep during the day?'].unique()"
      ],
      "execution_count": 51,
      "outputs": [
        {
          "output_type": "execute_result",
          "data": {
            "text/plain": [
              "array(['No', 'Yes'], dtype=object)"
            ]
          },
          "metadata": {
            "tags": []
          },
          "execution_count": 51
        }
      ]
    },
    {
      "cell_type": "code",
      "metadata": {
        "id": "MMS323rN6hc_",
        "colab_type": "code",
        "colab": {}
      },
      "source": [
        "data['Do you sleep during the day?'].replace({'No':0,'Yes':1},inplace=True)"
      ],
      "execution_count": 0,
      "outputs": []
    },
    {
      "cell_type": "code",
      "metadata": {
        "id": "sCmGR_TY6h45",
        "colab_type": "code",
        "outputId": "a3b3200f-bf4b-4c2b-e97d-41bef253b595",
        "colab": {
          "base_uri": "https://localhost:8080/",
          "height": 35
        }
      },
      "source": [
        "data['Group Study/Individual '].unique()"
      ],
      "execution_count": 53,
      "outputs": [
        {
          "output_type": "execute_result",
          "data": {
            "text/plain": [
              "array(['Individual', 'Group Study'], dtype=object)"
            ]
          },
          "metadata": {
            "tags": []
          },
          "execution_count": 53
        }
      ]
    },
    {
      "cell_type": "code",
      "metadata": {
        "id": "_0JMPpzU6iDE",
        "colab_type": "code",
        "colab": {}
      },
      "source": [
        "data['Group Study/Individual '].replace({'Individual':1, 'Group Study':2},inplace= True)"
      ],
      "execution_count": 0,
      "outputs": []
    },
    {
      "cell_type": "code",
      "metadata": {
        "id": "9b8HEv1-6iJK",
        "colab_type": "code",
        "outputId": "bc28e7df-2f5d-4136-f7cb-51748597959f",
        "colab": {
          "base_uri": "https://localhost:8080/",
          "height": 35
        }
      },
      "source": [
        "data['Study Material Preferred'].unique()"
      ],
      "execution_count": 55,
      "outputs": [
        {
          "output_type": "execute_result",
          "data": {
            "text/plain": [
              "array(['Online content', 'Books'], dtype=object)"
            ]
          },
          "metadata": {
            "tags": []
          },
          "execution_count": 55
        }
      ]
    },
    {
      "cell_type": "code",
      "metadata": {
        "id": "ZE6T-nkZ6iHj",
        "colab_type": "code",
        "colab": {}
      },
      "source": [
        "data['Study Material Preferred'].replace({'Online content':1, 'Books':2},inplace=True)"
      ],
      "execution_count": 0,
      "outputs": []
    },
    {
      "cell_type": "code",
      "metadata": {
        "id": "KsuUApzJ6iBh",
        "colab_type": "code",
        "outputId": "46c042a0-9c9e-4f47-e014-ccc6e5a18a30",
        "colab": {
          "base_uri": "https://localhost:8080/",
          "height": 35
        }
      },
      "source": [
        "data['Core/Non-Core'].unique()"
      ],
      "execution_count": 57,
      "outputs": [
        {
          "output_type": "execute_result",
          "data": {
            "text/plain": [
              "array(['Non-Core', 'Core'], dtype=object)"
            ]
          },
          "metadata": {
            "tags": []
          },
          "execution_count": 57
        }
      ]
    },
    {
      "cell_type": "code",
      "metadata": {
        "id": "-_vhxkQd6h-j",
        "colab_type": "code",
        "colab": {}
      },
      "source": [
        "data['Core/Non-Core'].replace({'Non-Core':2, 'Core':1},inplace=True)"
      ],
      "execution_count": 0,
      "outputs": []
    },
    {
      "cell_type": "code",
      "metadata": {
        "id": "f5zNtkHm_ZCB",
        "colab_type": "code",
        "colab": {}
      },
      "source": [
        "categorial_data = data.select_dtypes(exclude = np.number)"
      ],
      "execution_count": 0,
      "outputs": []
    },
    {
      "cell_type": "code",
      "metadata": {
        "id": "G77qnaEo6h8k",
        "colab_type": "code",
        "outputId": "cf7ae4ad-1478-4b48-c513-c7e6c8ed6d84",
        "colab": {
          "base_uri": "https://localhost:8080/",
          "height": 301
        }
      },
      "source": [
        "categorial_data.info()"
      ],
      "execution_count": 60,
      "outputs": [
        {
          "output_type": "stream",
          "text": [
            "<class 'pandas.core.frame.DataFrame'>\n",
            "Int64Index: 312 entries, 1 to 312\n",
            "Data columns (total 11 columns):\n",
            "Coaching City                                                                308 non-null object\n",
            "Coaching Name                                                                307 non-null object\n",
            "Home State                                                                   312 non-null object\n",
            "Home City                                                                    312 non-null object\n",
            "Mom's Education                                                              311 non-null object\n",
            "Which Technical Clubs are you part of ?                                      223 non-null object\n",
            "Which Cultural Clubs are you part of?                                        96 non-null object\n",
            "Member of Fests' organizing team?                                            231 non-null object\n",
            "Hostel?                                                                      312 non-null object\n",
            "At the time of Spardha/Kirti/Manthan, approx. time given per day? (hours)    312 non-null object\n",
            "Addiction?                                                                   20 non-null object\n",
            "dtypes: object(11)\n",
            "memory usage: 29.2+ KB\n"
          ],
          "name": "stdout"
        }
      ]
    },
    {
      "cell_type": "code",
      "metadata": {
        "id": "kbtlwYss6h21",
        "colab_type": "code",
        "outputId": "a084af07-2f3a-4d12-877e-57d79d8d45b0",
        "colab": {
          "base_uri": "https://localhost:8080/",
          "height": 52
        }
      },
      "source": [
        "data['Mom\\'s Education'].unique()"
      ],
      "execution_count": 61,
      "outputs": [
        {
          "output_type": "execute_result",
          "data": {
            "text/plain": [
              "array(['Post Graduate', 'Graduate', '10th Pass', nan, '12th Pass',\n",
              "       '<10th Pass'], dtype=object)"
            ]
          },
          "metadata": {
            "tags": []
          },
          "execution_count": 61
        }
      ]
    },
    {
      "cell_type": "code",
      "metadata": {
        "id": "O0z3pEoA6hwj",
        "colab_type": "code",
        "colab": {}
      },
      "source": [
        "#Finding numerical Features\n",
        "\n",
        "numeric_data = data.select_dtypes(include = np.number)\n",
        "\n",
        "#Finding categorial Features\n",
        "\n",
        "categorial_data = data.select_dtypes(exclude = np.number)\n"
      ],
      "execution_count": 0,
      "outputs": []
    },
    {
      "cell_type": "code",
      "metadata": {
        "id": "7-xtPI_O6huM",
        "colab_type": "code",
        "outputId": "be6ba12b-4d20-44fa-a11e-7149f6ee638d",
        "colab": {
          "base_uri": "https://localhost:8080/",
          "height": 212
        }
      },
      "source": [
        "list(categorial_data)"
      ],
      "execution_count": 63,
      "outputs": [
        {
          "output_type": "execute_result",
          "data": {
            "text/plain": [
              "['Coaching City',\n",
              " 'Coaching Name',\n",
              " 'Home State',\n",
              " 'Home City',\n",
              " \"Mom's Education\",\n",
              " 'Which Technical Clubs are you part of ?',\n",
              " 'Which Cultural Clubs are you part of?',\n",
              " \"Member of Fests' organizing team?\",\n",
              " 'Hostel?',\n",
              " 'At the time of Spardha/Kirti/Manthan, approx. time given per day? (hours)',\n",
              " 'Addiction?']"
            ]
          },
          "metadata": {
            "tags": []
          },
          "execution_count": 63
        }
      ]
    },
    {
      "cell_type": "code",
      "metadata": {
        "id": "iH5b_Epj6hop",
        "colab_type": "code",
        "outputId": "4425d77c-b5be-4f66-9eee-5aacddc5dd9a",
        "colab": {
          "base_uri": "https://localhost:8080/",
          "height": 35
        }
      },
      "source": [
        "data['Study Time?'].unique()"
      ],
      "execution_count": 64,
      "outputs": [
        {
          "output_type": "execute_result",
          "data": {
            "text/plain": [
              "array([0, 2, 1])"
            ]
          },
          "metadata": {
            "tags": []
          },
          "execution_count": 64
        }
      ]
    },
    {
      "cell_type": "code",
      "metadata": {
        "id": "RBbB_MMq6hQP",
        "colab_type": "code",
        "outputId": "939984aa-67e6-40aa-fd7e-ba2fbfdbe1fa",
        "colab": {
          "base_uri": "https://localhost:8080/",
          "height": 52
        }
      },
      "source": [
        "data['Hostel?'].unique()"
      ],
      "execution_count": 65,
      "outputs": [
        {
          "output_type": "execute_result",
          "data": {
            "text/plain": [
              "array(['Umiam', 'Kapili', 'Brahmaputra', 'Dhansiri', 'Lohit', 'Barak',\n",
              "       'DIhing', 'Kameng', 'Manas', 'Siang'], dtype=object)"
            ]
          },
          "metadata": {
            "tags": []
          },
          "execution_count": 65
        }
      ]
    },
    {
      "cell_type": "code",
      "metadata": {
        "id": "Vv1ve_5_6hKV",
        "colab_type": "code",
        "colab": {}
      },
      "source": [
        "data['Hostel?'].replace({'Umiam':0, 'Kapili':1, 'Brahmaputra':2, 'Dhansiri':3, 'Lohit':4, 'Barak':5,'DIhing':6, 'Kameng':7, 'Manas':8, 'Siang':9},inplace=True)"
      ],
      "execution_count": 0,
      "outputs": []
    },
    {
      "cell_type": "markdown",
      "metadata": {
        "id": "FGPpQcbP0ZuP",
        "colab_type": "text"
      },
      "source": [
        "## Club and fest"
      ]
    },
    {
      "cell_type": "code",
      "metadata": {
        "colab_type": "code",
        "id": "eGnBhX8eJXJb",
        "colab": {}
      },
      "source": [
        "data['Which Technical Clubs are you part of ?'].fillna('0', inplace = True)\n",
        "data[\"Member of Fests' organizing team?\"].fillna('0',inplace = True)\n"
      ],
      "execution_count": 0,
      "outputs": []
    },
    {
      "cell_type": "code",
      "metadata": {
        "colab_type": "code",
        "id": "lpiFpuazD6PK",
        "colab": {}
      },
      "source": [
        "def club_dets(club_str):\n",
        "  bus = 0;\n",
        "  hard = 0;\n",
        "  tech = 0;\n",
        "  oth = 0;\n",
        "\n",
        "  if ('CnA' in club_str):\n",
        "    bus+=1\n",
        "  if('FEC' in club_str):\n",
        "    bus+=1\n",
        "  if('Aero' in club_str):\n",
        "    hard+=1\n",
        "  if('Robotics' in club_str):\n",
        "    hard+=1\n",
        "  if('Electronics' in club_str):\n",
        "    hard+=1\n",
        "  if('Coding Club' in club_str):\n",
        "    tech+=1\n",
        "  if('Prakriti' in club_str):\n",
        "    tech+=1\n",
        "  if('Automobile Club' in club_str):\n",
        "    oth+=1\n",
        "  if('Equinox' in club_str):\n",
        "    oth+=1\n",
        "  if('Quiz Club' in club_str):\n",
        "    oth+=1\n",
        "  if('SWC' in club_str):\n",
        "    tech+=1\n",
        "  if('EDC' in club_str):\n",
        "    bus+=1\n",
        "\n",
        "  return [bus,hard,tech,oth]\n",
        "\n",
        "    \n",
        "\n",
        "\n"
      ],
      "execution_count": 0,
      "outputs": []
    },
    {
      "cell_type": "code",
      "metadata": {
        "colab_type": "code",
        "id": "C1nO29cwKS1D",
        "colab": {}
      },
      "source": [
        "def fest_dets(fest_str):\n",
        "  tech = 0;\n",
        "  alch = 0;\n",
        "  chugm = 0;\n",
        "  oth = 0;\n",
        "\n",
        "  if ('Techniche' in fest_str):\n",
        "    tech+=1\n",
        "  if('Alcher' in fest_str):\n",
        "    alch+=1\n",
        "  if('Udgam' in fest_str):\n",
        "    chugm+=1\n",
        "  if('Others' in fest_str):\n",
        "    oth+=1\n",
        "\n",
        "\n",
        "  return [tech,alch,chugm,oth]\n",
        "\n",
        "    \n",
        "\n",
        "\n"
      ],
      "execution_count": 0,
      "outputs": []
    },
    {
      "cell_type": "code",
      "metadata": {
        "colab_type": "code",
        "id": "D88eYKqkE9T7",
        "colab": {}
      },
      "source": [
        "data['Tech_Clubs'] = data['Which Technical Clubs are you part of ?'].apply(club_dets)"
      ],
      "execution_count": 0,
      "outputs": []
    },
    {
      "cell_type": "code",
      "metadata": {
        "id": "M9xc7TBhD6kz",
        "colab_type": "code",
        "colab": {}
      },
      "source": [
        "data[['bus','hard','tech','other_tech']] = pd.DataFrame(data['Tech_Clubs'].values.tolist(), index=data.index)"
      ],
      "execution_count": 0,
      "outputs": []
    },
    {
      "cell_type": "code",
      "metadata": {
        "colab_type": "code",
        "id": "7vN3QwQfI2Qo",
        "outputId": "3b30d594-f1f5-422a-bacc-18f1cf711e21",
        "colab": {
          "base_uri": "https://localhost:8080/",
          "height": 230
        }
      },
      "source": [
        "data['Tech_Clubs']"
      ],
      "execution_count": 72,
      "outputs": [
        {
          "output_type": "execute_result",
          "data": {
            "text/plain": [
              "1      [1, 0, 0, 0]\n",
              "2      [1, 1, 0, 0]\n",
              "3      [1, 0, 0, 0]\n",
              "4      [1, 0, 0, 0]\n",
              "5      [0, 1, 0, 0]\n",
              "           ...     \n",
              "308    [1, 0, 0, 0]\n",
              "309    [0, 0, 1, 0]\n",
              "310    [0, 0, 0, 0]\n",
              "311    [1, 1, 0, 0]\n",
              "312    [0, 1, 1, 0]\n",
              "Name: Tech_Clubs, Length: 312, dtype: object"
            ]
          },
          "metadata": {
            "tags": []
          },
          "execution_count": 72
        }
      ]
    },
    {
      "cell_type": "code",
      "metadata": {
        "colab_type": "code",
        "id": "-GBDindMJnj6",
        "colab": {}
      },
      "source": [
        "data['Fests'] = data[\"Member of Fests' organizing team?\"].apply(fest_dets)"
      ],
      "execution_count": 0,
      "outputs": []
    },
    {
      "cell_type": "code",
      "metadata": {
        "id": "YoFidNtNEMmd",
        "colab_type": "code",
        "colab": {}
      },
      "source": [
        "data[['techniche','alcher','chugm','other_fest']] = pd.DataFrame(data['Fests'].values.tolist(), index=data.index)"
      ],
      "execution_count": 0,
      "outputs": []
    },
    {
      "cell_type": "code",
      "metadata": {
        "colab_type": "code",
        "id": "lliW8OKhMdi3",
        "outputId": "74ab87a7-08f2-4690-8da0-6e823a267d61",
        "colab": {
          "base_uri": "https://localhost:8080/",
          "height": 283
        }
      },
      "source": [
        "plt.bar(data['Dropper?'].unique(),data['Dropper?'].value_counts())"
      ],
      "execution_count": 75,
      "outputs": [
        {
          "output_type": "execute_result",
          "data": {
            "text/plain": [
              "<BarContainer object of 2 artists>"
            ]
          },
          "metadata": {
            "tags": []
          },
          "execution_count": 75
        },
        {
          "output_type": "display_data",
          "data": {
            "image/png": "[encoded data removed]",
            "text/plain": [
              "<Figure size 432x288 with 1 Axes>"
            ]
          },
          "metadata": {
            "tags": []
          }
        }
      ]
    },
    {
      "cell_type": "code",
      "metadata": {
        "colab_type": "code",
        "id": "A-x-BNYwOjJa",
        "outputId": "7f1a84e4-90a8-4da2-8be9-79274eef71d8",
        "colab": {
          "base_uri": "https://localhost:8080/",
          "height": 284
        }
      },
      "source": [
        "plt.bar(data['Sex'].unique(),data['Sex'].value_counts())"
      ],
      "execution_count": 76,
      "outputs": [
        {
          "output_type": "execute_result",
          "data": {
            "text/plain": [
              "<BarContainer object of 2 artists>"
            ]
          },
          "metadata": {
            "tags": []
          },
          "execution_count": 76
        },
        {
          "output_type": "display_data",
          "data": {
            "image/png": "[encoded data removed]",
            "text/plain": [
              "<Figure size 432x288 with 1 Axes>"
            ]
          },
          "metadata": {
            "tags": []
          }
        }
      ]
    },
    {
      "cell_type": "code",
      "metadata": {
        "colab_type": "code",
        "id": "-WbANajXOTIh",
        "outputId": "9e20c6d6-8bc0-4f98-f618-0211e7c19ed2",
        "colab": {
          "base_uri": "https://localhost:8080/",
          "height": 286
        }
      },
      "source": [
        "plt.bar(data['Branch'].unique(),data['Branch'].value_counts())"
      ],
      "execution_count": 77,
      "outputs": [
        {
          "output_type": "execute_result",
          "data": {
            "text/plain": [
              "<BarContainer object of 10 artists>"
            ]
          },
          "metadata": {
            "tags": []
          },
          "execution_count": 77
        },
        {
          "output_type": "display_data",
          "data": {
            "image/png": "[encoded data removed]",
            "text/plain": [
              "<Figure size 432x288 with 1 Axes>"
            ]
          },
          "metadata": {
            "tags": []
          }
        }
      ]
    },
    {
      "cell_type": "code",
      "metadata": {
        "colab_type": "code",
        "id": "SSl3F32oO4Fh",
        "outputId": "025a1e9b-dbbb-46f4-9234-583e4461b390",
        "colab": {
          "base_uri": "https://localhost:8080/",
          "height": 283
        }
      },
      "source": [
        "plt.bar(data['10th Board'].unique(),data['10th Board'].value_counts())"
      ],
      "execution_count": 78,
      "outputs": [
        {
          "output_type": "execute_result",
          "data": {
            "text/plain": [
              "<BarContainer object of 3 artists>"
            ]
          },
          "metadata": {
            "tags": []
          },
          "execution_count": 78
        },
        {
          "output_type": "display_data",
          "data": {
            "image/png": "[encoded data removed]",
            "text/plain": [
              "<Figure size 432x288 with 1 Axes>"
            ]
          },
          "metadata": {
            "tags": []
          }
        }
      ]
    },
    {
      "cell_type": "code",
      "metadata": {
        "colab_type": "code",
        "id": "le-z1r1UQRWj",
        "outputId": "515638fd-f774-4811-fde4-c09f77fc3009",
        "colab": {
          "base_uri": "https://localhost:8080/",
          "height": 283
        }
      },
      "source": [
        "plt.bar(data['12th Board'].unique(),data['12th Board'].value_counts())"
      ],
      "execution_count": 79,
      "outputs": [
        {
          "output_type": "execute_result",
          "data": {
            "text/plain": [
              "<BarContainer object of 3 artists>"
            ]
          },
          "metadata": {
            "tags": []
          },
          "execution_count": 79
        },
        {
          "output_type": "display_data",
          "data": {
            "image/png": "[encoded data removed]",
            "text/plain": [
              "<Figure size 432x288 with 1 Axes>"
            ]
          },
          "metadata": {
            "tags": []
          }
        }
      ]
    },
    {
      "cell_type": "code",
      "metadata": {
        "id": "5alqOBcZ2cqS",
        "colab_type": "code",
        "colab": {}
      },
      "source": [
        "# mom nd dad edu\n",
        "data[\"Mom's Education\"].dropna(inplace = True)"
      ],
      "execution_count": 0,
      "outputs": []
    },
    {
      "cell_type": "code",
      "metadata": {
        "id": "9IrzaDgI2tIF",
        "colab_type": "code",
        "colab": {}
      },
      "source": [
        "# mom nd dad edu\n",
        "data[\"Mom's Education\"].replace({'Post Graduate':1,'Graduate':2,'10th Pass':3,'12th Pass':4,'<10th Pass':5},inplace= True)"
      ],
      "execution_count": 0,
      "outputs": []
    },
    {
      "cell_type": "code",
      "metadata": {
        "id": "nRmuH6k62vvH",
        "colab_type": "code",
        "outputId": "17c57c79-fe80-46fb-e56c-2cb3dff9fc3e",
        "colab": {
          "base_uri": "https://localhost:8080/",
          "height": 35
        }
      },
      "source": [
        "data[\"Mom's Education\"].unique()"
      ],
      "execution_count": 164,
      "outputs": [
        {
          "output_type": "execute_result",
          "data": {
            "text/plain": [
              "array([2, 1, 4, 5, 3, 0])"
            ]
          },
          "metadata": {
            "tags": []
          },
          "execution_count": 164
        }
      ]
    },
    {
      "cell_type": "code",
      "metadata": {
        "colab_type": "code",
        "id": "bJDhNNxMRdxv",
        "outputId": "e6d18b2f-3211-4021-84fd-55c924d60b84",
        "colab": {
          "base_uri": "https://localhost:8080/",
          "height": 286
        }
      },
      "source": [
        "plt.bar(data[\"Mom's Education\"].unique(),data[\"Mom's Education\"].value_counts())"
      ],
      "execution_count": 83,
      "outputs": [
        {
          "output_type": "execute_result",
          "data": {
            "text/plain": [
              "<BarContainer object of 5 artists>"
            ]
          },
          "metadata": {
            "tags": []
          },
          "execution_count": 83
        },
        {
          "output_type": "display_data",
          "data": {
            "image/png": "[encoded data removed]",
            "text/plain": [
              "<Figure size 432x288 with 1 Axes>"
            ]
          },
          "metadata": {
            "tags": []
          }
        }
      ]
    },
    {
      "cell_type": "code",
      "metadata": {
        "colab_type": "code",
        "id": "OgIT4v1jR1Op",
        "outputId": "61ee5543-8f89-44a6-da3b-3548c300283b",
        "colab": {
          "base_uri": "https://localhost:8080/",
          "height": 283
        }
      },
      "source": [
        "plt.bar(data[\"Dad's Education\"].unique(),data[\"Dad's Education\"].value_counts())"
      ],
      "execution_count": 84,
      "outputs": [
        {
          "output_type": "execute_result",
          "data": {
            "text/plain": [
              "<BarContainer object of 5 artists>"
            ]
          },
          "metadata": {
            "tags": []
          },
          "execution_count": 84
        },
        {
          "output_type": "display_data",
          "data": {
            "image/png": "[encoded data removed]",
            "text/plain": [
              "<Figure size 432x288 with 1 Axes>"
            ]
          },
          "metadata": {
            "tags": []
          }
        }
      ]
    },
    {
      "cell_type": "code",
      "metadata": {
        "colab_type": "code",
        "id": "vbloVyruSU_N",
        "outputId": "0e66567c-ac64-4b0d-978d-b1cde95f712e",
        "colab": {
          "base_uri": "https://localhost:8080/",
          "height": 283
        }
      },
      "source": [
        "plt.bar(data[\"Mom's Job\"].unique(),data[\"Mom's Job\"].value_counts())"
      ],
      "execution_count": 85,
      "outputs": [
        {
          "output_type": "execute_result",
          "data": {
            "text/plain": [
              "<BarContainer object of 9 artists>"
            ]
          },
          "metadata": {
            "tags": []
          },
          "execution_count": 85
        },
        {
          "output_type": "display_data",
          "data": {
            "image/png": "[encoded data removed]",
            "text/plain": [
              "<Figure size 432x288 with 1 Axes>"
            ]
          },
          "metadata": {
            "tags": []
          }
        }
      ]
    },
    {
      "cell_type": "code",
      "metadata": {
        "colab_type": "code",
        "id": "S8kHzGL4SzJ8",
        "outputId": "a263edcc-012f-45f4-fb31-5867aa0ea02f",
        "colab": {
          "base_uri": "https://localhost:8080/",
          "height": 283
        }
      },
      "source": [
        "plt.bar(data[\"Dad's Job\"].unique(),data[\"Dad's Job\"].value_counts())"
      ],
      "execution_count": 86,
      "outputs": [
        {
          "output_type": "execute_result",
          "data": {
            "text/plain": [
              "<BarContainer object of 8 artists>"
            ]
          },
          "metadata": {
            "tags": []
          },
          "execution_count": 86
        },
        {
          "output_type": "display_data",
          "data": {
            "image/png": "[encoded data removed]",
            "text/plain": [
              "<Figure size 432x288 with 1 Axes>"
            ]
          },
          "metadata": {
            "tags": []
          }
        }
      ]
    },
    {
      "cell_type": "code",
      "metadata": {
        "colab_type": "code",
        "id": "M3DHHBmlSlMl",
        "colab": {}
      },
      "source": [
        "def plot_bar(coln):\n",
        "  plt.bar(data[coln].unique(),data[coln].value_counts())\n",
        "\n"
      ],
      "execution_count": 0,
      "outputs": []
    },
    {
      "cell_type": "code",
      "metadata": {
        "colab_type": "code",
        "id": "tgIl1IrYQUOG",
        "outputId": "c842de5d-78d5-403f-98c0-a8f9bea787e2",
        "colab": {
          "base_uri": "https://localhost:8080/",
          "height": 316
        }
      },
      "source": [
        "data.hist('Family Size',bins= 100)"
      ],
      "execution_count": 88,
      "outputs": [
        {
          "output_type": "execute_result",
          "data": {
            "text/plain": [
              "array([[<matplotlib.axes._subplots.AxesSubplot object at 0x7fa086370470>]],\n",
              "      dtype=object)"
            ]
          },
          "metadata": {
            "tags": []
          },
          "execution_count": 88
        },
        {
          "output_type": "display_data",
          "data": {
            "image/png": "[encoded data removed]",
            "text/plain": [
              "<Figure size 432x288 with 1 Axes>"
            ]
          },
          "metadata": {
            "tags": []
          }
        }
      ]
    },
    {
      "cell_type": "code",
      "metadata": {
        "id": "DWq4NMQSoQWE",
        "colab_type": "code",
        "colab": {}
      },
      "source": [
        "def c_club_dets(club_str):\n",
        "  octv = 0;\n",
        "  cad =0;\n",
        "  lit = 0;\n",
        "  deb = 0;\n",
        "  anr = 0;\n",
        "  mont = 0;\n",
        "  drama = 0;\n",
        "  arts = 0;\n",
        "  lum = 0;\n",
        "\n",
        "  if('Octaves' in club_str):\n",
        "    octv+=1\n",
        "  if('Cadence' in club_str):\n",
        "    cad+=1\n",
        "  if('Litsoc' in club_str):\n",
        "    lit+=1\n",
        "  if('Debsoc' in club_str):\n",
        "    deb+=1\n",
        "  if('AnR' in club_str):\n",
        "    anr+=1\n",
        "  if('Drama club' in club_str):\n",
        "    drama+=1\n",
        "  if('Fine-Arts' in club_str):\n",
        "    arts+=1\n",
        "  if('Lumiere' in club_str):\n",
        "    lum+=1\n",
        "    \n",
        "  return [cad,lit,deb,anr,mont,drama,arts,lum]\n"
      ],
      "execution_count": 0,
      "outputs": []
    },
    {
      "cell_type": "code",
      "metadata": {
        "id": "gTYwU221oQWI",
        "colab_type": "code",
        "colab": {}
      },
      "source": [
        "data['Which Cultural Clubs are you part of?'].fillna('0',inplace = True)"
      ],
      "execution_count": 0,
      "outputs": []
    },
    {
      "cell_type": "code",
      "metadata": {
        "id": "JnHC-tzFoQWL",
        "colab_type": "code",
        "colab": {}
      },
      "source": [
        "data['Cult_Clubs'] = data['Which Cultural Clubs are you part of?'].apply(c_club_dets)"
      ],
      "execution_count": 0,
      "outputs": []
    },
    {
      "cell_type": "code",
      "metadata": {
        "id": "U2gdsG7GEm48",
        "colab_type": "code",
        "colab": {}
      },
      "source": [
        "data[['cad','lit','deb','anr','mont','drama','arts','lum']] = pd.DataFrame(data['Cult_Clubs'].values.tolist(), index=data.index)"
      ],
      "execution_count": 0,
      "outputs": []
    },
    {
      "cell_type": "markdown",
      "metadata": {
        "id": "Ix7hYDproQWO",
        "colab_type": "text"
      },
      "source": [
        "## Cleaning of Home state "
      ]
    },
    {
      "cell_type": "code",
      "metadata": {
        "id": "Bua3HOepoQWP",
        "colab_type": "code",
        "outputId": "856fbae7-8d1d-4864-dc74-78823bb89581",
        "colab": {
          "base_uri": "https://localhost:8080/",
          "height": 337
        }
      },
      "source": [
        "data['Home State'].unique()"
      ],
      "execution_count": 93,
      "outputs": [
        {
          "output_type": "execute_result",
          "data": {
            "text/plain": [
              "array(['Rajasthan', 'Madhya Pradesh', 'bihar', 'Maharashtra',\n",
              "       'West Bengal', 'Gujarat', 'UP', 'Karnataka', 'Delhi', 'New Delhi',\n",
              "       'Uttar Pradesh', 'Haryana', 'HARYANA', 'Uttarakhand',\n",
              "       'Andhra pradesh', 'Uttar pradesh', 'Manipur', 'MAHARASHTRA',\n",
              "       'Madhya pradesh', 'Andra pradesh', 'Punjab', 'Maharashtra ',\n",
              "       'Jharkhand', 'TAMIL NADU', 'Telangana', 'Bihar', 'west bengal',\n",
              "       'RAJASTHAN', 'tamil nadu', 'TamilNadu', 'Gujarat ', 'Rajasthan ',\n",
              "       'PUNJAB', 'karnataka', 'Andhra and Telangana pradesh',\n",
              "       'Maharshtra', 'Assam', 'Arunachal Pradesh', 'Tamilnadu',\n",
              "       'Madhya pradesg', 'Mp', 'Bokaro', 'UTTAR PRADESH', 'Andra Pradesh',\n",
              "       'Telangana ', 'Up', 'MP', 'Kerala', 'Chhattisgarh ',\n",
              "       'Andhra Pradesh', 'Bhopal', 'Ap', 'West bengal', 'GUJARAT',\n",
              "       'tamilnadu', 'Andhra prdesh', 'Karnataka ', 'rajasthan', 'M.P.',\n",
              "       'Uttrakhand', 'BIHAR', 'haryana', 'manipur', 'maharashtra',\n",
              "       'assam', 'uttar pradesh', 'M.P', 'kerala', 'Odisha',\n",
              "       'Telangana State', 'Chhattisgarh', 'Andhra Pradesh ', 'Westbengal',\n",
              "       'telangana', 'Alwar', 'Andhra pradhesh', 'Haryana ', 'Chandigarh',\n",
              "       'Arunachal pradesh', 'Andaman and Nicobar Islands'], dtype=object)"
            ]
          },
          "metadata": {
            "tags": []
          },
          "execution_count": 93
        }
      ]
    },
    {
      "cell_type": "code",
      "metadata": {
        "id": "XTlsbZDCoQWR",
        "colab_type": "code",
        "colab": {}
      },
      "source": [
        "data['Home State']=data['Home State'].str.lower().str.replace(' ','')"
      ],
      "execution_count": 0,
      "outputs": []
    },
    {
      "cell_type": "code",
      "metadata": {
        "id": "AQQlSDcDBdzb",
        "colab_type": "code",
        "outputId": "40c93a72-5bb8-4af5-aa81-b3b45a54a127",
        "colab": {
          "base_uri": "https://localhost:8080/",
          "height": 195
        }
      },
      "source": [
        "data['Home State'].unique()"
      ],
      "execution_count": 95,
      "outputs": [
        {
          "output_type": "execute_result",
          "data": {
            "text/plain": [
              "array(['rajasthan', 'madhyapradesh', 'bihar', 'maharashtra', 'westbengal',\n",
              "       'gujarat', 'up', 'karnataka', 'delhi', 'newdelhi', 'uttarpradesh',\n",
              "       'haryana', 'uttarakhand', 'andhrapradesh', 'manipur',\n",
              "       'andrapradesh', 'punjab', 'jharkhand', 'tamilnadu', 'telangana',\n",
              "       'andhraandtelanganapradesh', 'maharshtra', 'assam',\n",
              "       'arunachalpradesh', 'madhyapradesg', 'mp', 'bokaro', 'kerala',\n",
              "       'chhattisgarh', 'bhopal', 'ap', 'andhraprdesh', 'm.p.',\n",
              "       'uttrakhand', 'm.p', 'odisha', 'telanganastate', 'alwar',\n",
              "       'andhrapradhesh', 'chandigarh', 'andamanandnicobarislands'],\n",
              "      dtype=object)"
            ]
          },
          "metadata": {
            "tags": []
          },
          "execution_count": 95
        }
      ]
    },
    {
      "cell_type": "code",
      "metadata": {
        "id": "jWJZd65yBn9n",
        "colab_type": "code",
        "colab": {}
      },
      "source": [
        "data=data.sort_values(by='Home State')"
      ],
      "execution_count": 0,
      "outputs": []
    },
    {
      "cell_type": "code",
      "metadata": {
        "id": "CDzmbwE3Bn78",
        "colab_type": "code",
        "outputId": "d43d8873-2add-4ef8-f48e-3211ab8b7cad",
        "colab": {
          "base_uri": "https://localhost:8080/",
          "height": 177
        }
      },
      "source": [
        "data['Home State'].unique()"
      ],
      "execution_count": 97,
      "outputs": [
        {
          "output_type": "execute_result",
          "data": {
            "text/plain": [
              "array(['alwar', 'andamanandnicobarislands', 'andhraandtelanganapradesh',\n",
              "       'andhrapradesh', 'andhrapradhesh', 'andhraprdesh', 'andrapradesh',\n",
              "       'ap', 'arunachalpradesh', 'assam', 'bhopal', 'bihar', 'bokaro',\n",
              "       'chandigarh', 'chhattisgarh', 'delhi', 'gujarat', 'haryana',\n",
              "       'jharkhand', 'karnataka', 'kerala', 'm.p', 'm.p.', 'madhyapradesg',\n",
              "       'madhyapradesh', 'maharashtra', 'maharshtra', 'manipur', 'mp',\n",
              "       'newdelhi', 'odisha', 'punjab', 'rajasthan', 'tamilnadu',\n",
              "       'telangana', 'telanganastate', 'up', 'uttarakhand', 'uttarpradesh',\n",
              "       'uttrakhand', 'westbengal'], dtype=object)"
            ]
          },
          "metadata": {
            "tags": []
          },
          "execution_count": 97
        }
      ]
    },
    {
      "cell_type": "code",
      "metadata": {
        "id": "Gdd4HKW5oQWV",
        "colab_type": "code",
        "colab": {}
      },
      "source": [
        "data['Home State']=data['Home State'].str.replace('newdelhi','delhi').replace('maharshtra','maharashtra').replace('uttarpradesh','up').replace('uttarakhand','uttrakhand')"
      ],
      "execution_count": 0,
      "outputs": []
    },
    {
      "cell_type": "code",
      "metadata": {
        "id": "r2lFfc4voQWZ",
        "colab_type": "code",
        "colab": {}
      },
      "source": [
        "data['Home State']=data['Home State'].str.replace('madhyapradesh|madhyaparadesh|madhyapradesg|m.p.|m.p|bhopal','mp')"
      ],
      "execution_count": 0,
      "outputs": []
    },
    {
      "cell_type": "code",
      "metadata": {
        "id": "sHxvK5msoQWd",
        "colab_type": "code",
        "colab": {}
      },
      "source": [
        "data['Home State']=data['Home State'].str.replace('telanganastate','telangana').replace('bokaro','jharkhand').replace('alwar','rajasthan')"
      ],
      "execution_count": 0,
      "outputs": []
    },
    {
      "cell_type": "code",
      "metadata": {
        "id": "DOGA3KQLoQWg",
        "colab_type": "code",
        "colab": {}
      },
      "source": [
        "data['Home State']=data['Home State'].str.replace('andhrapradesh|andrapradesh|andhraandtelanganapradesh|andhraprdesh|andhrapradhesh','ap')"
      ],
      "execution_count": 0,
      "outputs": []
    },
    {
      "cell_type": "code",
      "metadata": {
        "id": "EY6AWdCuoQWh",
        "colab_type": "code",
        "outputId": "2f4f7fed-525b-498f-be4e-17978b82b988",
        "colab": {
          "base_uri": "https://localhost:8080/",
          "height": 106
        }
      },
      "source": [
        "data['Home State'].unique()"
      ],
      "execution_count": 102,
      "outputs": [
        {
          "output_type": "execute_result",
          "data": {
            "text/plain": [
              "array(['rajasthan', 'andamanandnicobarislands', 'ap', 'arunachalpradesh',\n",
              "       'assam', 'mp', 'bihar', 'jharkhand', 'chandigarh', 'chhattisgarh',\n",
              "       'delhi', 'gujarat', 'haryana', 'karnataka', 'kerala',\n",
              "       'maharashtra', 'manipur', 'odisha', 'punjab', 'tamilnadu',\n",
              "       'telangana', 'up', 'uttrakhand', 'westbengal'], dtype=object)"
            ]
          },
          "metadata": {
            "tags": []
          },
          "execution_count": 102
        }
      ]
    },
    {
      "cell_type": "code",
      "metadata": {
        "id": "NKYHoJbEe0XT",
        "colab_type": "code",
        "colab": {}
      },
      "source": [
        "data['Home State'] =data['Home State'].astype('category').cat.codes"
      ],
      "execution_count": 0,
      "outputs": []
    },
    {
      "cell_type": "markdown",
      "metadata": {
        "id": "hB7vtLq2oQWk",
        "colab_type": "text"
      },
      "source": [
        "## Cleaning of Home City"
      ]
    },
    {
      "cell_type": "code",
      "metadata": {
        "id": "X94Cg_KUoQWk",
        "colab_type": "code",
        "outputId": "405186fe-2136-4b62-fdae-751b72d76d6e",
        "colab": {
          "base_uri": "https://localhost:8080/",
          "height": 675
        }
      },
      "source": [
        "data['Home City'].unique()"
      ],
      "execution_count": 104,
      "outputs": [
        {
          "output_type": "execute_result",
          "data": {
            "text/plain": [
              "array(['Behror', 'Rangat', 'Hyderabad', 'Vizag', 'Visakhapatnam',\n",
              "       'Kakinada', 'Vijayawada', 'Guntur', 'Amadalavalasa',\n",
              "       'Sattenapalli', 'Kadapa', 'Tanuku', 'Rajahmundry', 'Kavali',\n",
              "       'Palasa', 'Rajuhmundry', 'Pileru', 'Tadipatri', 'Nuzvid',\n",
              "       'Itanagar', 'Guwahati', 'Jaipur', 'Hailakandi', 'Jorhat',\n",
              "       'tinsukia', 'MP', 'Khagaria', 'Patna', 'Hajipur', 'Motihari ',\n",
              "       'Bhojpur', 'hajipur', 'Forbesgang', 'Nawada', 'Sitamarhi',\n",
              "       'Bettiah', 'sasaram', 'Motihari', 'Madhepura', 'Muzaffarpur',\n",
              "       'Samastipur', 'biharsharif', 'Jehanabad', 'Bokaro', 'Chandigarh',\n",
              "       'Korba', 'Raipur', 'Ambikapur', 'Raigarh', 'Delhi', 'New Delhi',\n",
              "       'Chanakyapuri', 'Rohini', 'Mehsana', 'Ahmedabad', 'Vapi',\n",
              "       'Jodhpur', 'Surat', 'Vadodara', 'Jamnagar', 'Ahmedabad ', 'Rohtak',\n",
              "       'Bhiwani', 'Ballabgarh', 'Gurgaon', 'Hisar', 'Sonipat', 'Narnaul',\n",
              "       'Gurugram', 'narnaul', 'Rewari', 'GURUGRAM', 'Ranchi',\n",
              "       'Jamshedpur', 'Dhanbad', 'Godda', 'Ramgarh', 'Hazaribag',\n",
              "       'Bangalore', 'Mangalore ', 'Bengaluru', 'karwar', 'Thrissur',\n",
              "       'Malappuram', 'Kottayam', 'Kerala', 'Kochi', 'Guna', 'Indore',\n",
              "       'Shahdol(mp)', 'Ashok nagar', 'Balaghat', 'Bhopal', 'Gwalior',\n",
              "       'Khargone', 'Chhatarpur', 'Shahdol', 'Maheshwar', 'Jabalpur',\n",
              "       'Ujjain', 'Solapur', 'Nagpur', 'Latur', 'Pune', 'Pusad', 'Mumbai ',\n",
              "       'MUMBAI', 'Wardha', 'Nanded', 'Mumbai', 'Navi Mumbai', 'Kolhapur',\n",
              "       'kanpur', 'Yavatmal', 'Ahmedpur', 'Karanja', 'Aurangabad',\n",
              "       'Chandrapur', 'Amravati', 'Warora', 'Kalyan', 'Shirdi',\n",
              "       'Churachandpur', 'imphal', 'Barwani', 'Bhubaneshwar', 'Angul',\n",
              "       'Pathankot', 'Barnala', 'Patiala', 'Hindaun city', 'Kota', 'Alwar',\n",
              "       'Abu road', 'Bikaner', 'CHITTORGARH', 'Sikar', 'Beawar', 'Ajmer',\n",
              "       'Sri Ganganagar ', 'Balotra', 'Bhilwara', 'Udaipur ', 'Udaipur',\n",
              "       'JAIPUR', 'Bundi', 'Singhana', 'Dhaulpur', 'churu',\n",
              "       'Kuchaman city', 'Jodhpur ', 'Erode', 'karur', 'CHENNAI', 'trichy',\n",
              "       'Trichy', 'Rangareddy', 'Hyderabad ', 'Suryapetta', 'Warangal',\n",
              "       'Kamareddy', 'warangal', 'Khammam', 'Allahabad', 'Lucknow',\n",
              "       'Varanasi', 'Noida', 'LUCKNOW', 'Unnao', 'Haridwar', 'Nainital',\n",
              "       'Rampur', 'Kanpur', 'Bareilly', 'Raebareli', 'Jhansi', 'Ghaziabad',\n",
              "       'Gorakhpur', 'Sonebhadra', 'Mathura', 'NOIDA', 'Prayagraj',\n",
              "       'Akbarpur', 'Meerut', 'Dehradun', 'Durgapur', 'Kolkata',\n",
              "       'Durgspur', 'Howrah', 'Barrackpore', 'Raniganj', 'KOLKATA',\n",
              "       'asansol'], dtype=object)"
            ]
          },
          "metadata": {
            "tags": []
          },
          "execution_count": 104
        }
      ]
    },
    {
      "cell_type": "code",
      "metadata": {
        "id": "-JYBtcZJCvz5",
        "colab_type": "code",
        "colab": {}
      },
      "source": [
        "data=data.sort_values(by='Home City')"
      ],
      "execution_count": 0,
      "outputs": []
    },
    {
      "cell_type": "code",
      "metadata": {
        "id": "0jTQv1jhCvyC",
        "colab_type": "code",
        "outputId": "34126187-9b82-481f-c6c1-6883a99b227f",
        "colab": {
          "base_uri": "https://localhost:8080/",
          "height": 675
        }
      },
      "source": [
        "data['Home City'].unique()"
      ],
      "execution_count": 106,
      "outputs": [
        {
          "output_type": "execute_result",
          "data": {
            "text/plain": [
              "array(['Abu road', 'Ahmedabad', 'Ahmedabad ', 'Ahmedpur', 'Ajmer',\n",
              "       'Akbarpur', 'Allahabad', 'Alwar', 'Amadalavalasa', 'Ambikapur',\n",
              "       'Amravati', 'Angul', 'Ashok nagar', 'Aurangabad', 'Balaghat',\n",
              "       'Ballabgarh', 'Balotra', 'Bangalore', 'Bareilly', 'Barnala',\n",
              "       'Barrackpore', 'Barwani', 'Beawar', 'Behror', 'Bengaluru',\n",
              "       'Bettiah', 'Bhilwara', 'Bhiwani', 'Bhojpur', 'Bhopal',\n",
              "       'Bhubaneshwar', 'Bikaner', 'Bokaro', 'Bundi', 'CHENNAI',\n",
              "       'CHITTORGARH', 'Chanakyapuri', 'Chandigarh', 'Chandrapur',\n",
              "       'Chhatarpur', 'Churachandpur', 'Dehradun', 'Delhi', 'Dhanbad',\n",
              "       'Dhaulpur', 'Durgapur', 'Durgspur', 'Erode', 'Forbesgang',\n",
              "       'GURUGRAM', 'Ghaziabad', 'Godda', 'Gorakhpur', 'Guna', 'Guntur',\n",
              "       'Gurgaon', 'Gurugram', 'Guwahati', 'Gwalior', 'Hailakandi',\n",
              "       'Hajipur', 'Haridwar', 'Hazaribag', 'Hindaun city', 'Hisar',\n",
              "       'Howrah', 'Hyderabad', 'Hyderabad ', 'Indore', 'Itanagar',\n",
              "       'JAIPUR', 'Jabalpur', 'Jaipur', 'Jamnagar', 'Jamshedpur',\n",
              "       'Jehanabad', 'Jhansi', 'Jodhpur', 'Jodhpur ', 'Jorhat', 'KOLKATA',\n",
              "       'Kadapa', 'Kakinada', 'Kalyan', 'Kamareddy', 'Kanpur', 'Karanja',\n",
              "       'Kavali', 'Kerala', 'Khagaria', 'Khammam', 'Khargone', 'Kochi',\n",
              "       'Kolhapur', 'Kolkata', 'Korba', 'Kota', 'Kottayam',\n",
              "       'Kuchaman city', 'LUCKNOW', 'Latur', 'Lucknow', 'MP', 'MUMBAI',\n",
              "       'Madhepura', 'Maheshwar', 'Malappuram', 'Mangalore ', 'Mathura',\n",
              "       'Meerut', 'Mehsana', 'Motihari', 'Motihari ', 'Mumbai', 'Mumbai ',\n",
              "       'Muzaffarpur', 'NOIDA', 'Nagpur', 'Nainital', 'Nanded', 'Narnaul',\n",
              "       'Navi Mumbai', 'Nawada', 'New Delhi', 'Noida', 'Nuzvid', 'Palasa',\n",
              "       'Pathankot', 'Patiala', 'Patna', 'Pileru', 'Prayagraj', 'Pune',\n",
              "       'Pusad', 'Raebareli', 'Raigarh', 'Raipur', 'Rajahmundry',\n",
              "       'Rajuhmundry', 'Ramgarh', 'Rampur', 'Ranchi', 'Rangareddy',\n",
              "       'Rangat', 'Raniganj', 'Rewari', 'Rohini', 'Rohtak', 'Samastipur',\n",
              "       'Sattenapalli', 'Shahdol', 'Shahdol(mp)', 'Shirdi', 'Sikar',\n",
              "       'Singhana', 'Sitamarhi', 'Solapur', 'Sonebhadra', 'Sonipat',\n",
              "       'Sri Ganganagar ', 'Surat', 'Suryapetta', 'Tadipatri', 'Tanuku',\n",
              "       'Thrissur', 'Trichy', 'Udaipur', 'Udaipur ', 'Ujjain', 'Unnao',\n",
              "       'Vadodara', 'Vapi', 'Varanasi', 'Vijayawada', 'Visakhapatnam',\n",
              "       'Vizag', 'Warangal', 'Wardha', 'Warora', 'Yavatmal', 'asansol',\n",
              "       'biharsharif', 'churu', 'hajipur', 'imphal', 'kanpur', 'karur',\n",
              "       'karwar', 'narnaul', 'sasaram', 'tinsukia', 'trichy', 'warangal'],\n",
              "      dtype=object)"
            ]
          },
          "metadata": {
            "tags": []
          },
          "execution_count": 106
        }
      ]
    },
    {
      "cell_type": "code",
      "metadata": {
        "id": "Y8hdJu8toQWn",
        "colab_type": "code",
        "colab": {}
      },
      "source": [
        "data['Home City']=data['Home City'].str.lower().str.replace(' ','')"
      ],
      "execution_count": 0,
      "outputs": []
    },
    {
      "cell_type": "code",
      "metadata": {
        "id": "YNeauMbNE2oh",
        "colab_type": "code",
        "colab": {}
      },
      "source": [
        "data['Home City'].replace({'durgapur':'durgspur','mp':'bhopal','rajahmundry':'rajuhmundry','shahdol(mp)':'shahdol'},inplace = True)"
      ],
      "execution_count": 0,
      "outputs": []
    },
    {
      "cell_type": "code",
      "metadata": {
        "id": "BnwyQ1SKGsFp",
        "colab_type": "code",
        "outputId": "224e5bc0-4c04-4f77-cbaa-32f3ebba3286",
        "colab": {
          "base_uri": "https://localhost:8080/",
          "height": 604
        }
      },
      "source": [
        "data['Home City'].unique()"
      ],
      "execution_count": 109,
      "outputs": [
        {
          "output_type": "execute_result",
          "data": {
            "text/plain": [
              "array(['aburoad', 'ahmedabad', 'ahmedpur', 'ajmer', 'akbarpur',\n",
              "       'allahabad', 'alwar', 'amadalavalasa', 'ambikapur', 'amravati',\n",
              "       'angul', 'ashoknagar', 'aurangabad', 'balaghat', 'ballabgarh',\n",
              "       'balotra', 'bangalore', 'bareilly', 'barnala', 'barrackpore',\n",
              "       'barwani', 'beawar', 'behror', 'bengaluru', 'bettiah', 'bhilwara',\n",
              "       'bhiwani', 'bhojpur', 'bhopal', 'bhubaneshwar', 'bikaner',\n",
              "       'bokaro', 'bundi', 'chennai', 'chittorgarh', 'chanakyapuri',\n",
              "       'chandigarh', 'chandrapur', 'chhatarpur', 'churachandpur',\n",
              "       'dehradun', 'delhi', 'dhanbad', 'dhaulpur', 'durgspur', 'erode',\n",
              "       'forbesgang', 'gurugram', 'ghaziabad', 'godda', 'gorakhpur',\n",
              "       'guna', 'guntur', 'gurgaon', 'guwahati', 'gwalior', 'hailakandi',\n",
              "       'hajipur', 'haridwar', 'hazaribag', 'hindauncity', 'hisar',\n",
              "       'howrah', 'hyderabad', 'indore', 'itanagar', 'jaipur', 'jabalpur',\n",
              "       'jamnagar', 'jamshedpur', 'jehanabad', 'jhansi', 'jodhpur',\n",
              "       'jorhat', 'kolkata', 'kadapa', 'kakinada', 'kalyan', 'kamareddy',\n",
              "       'kanpur', 'karanja', 'kavali', 'kerala', 'khagaria', 'khammam',\n",
              "       'khargone', 'kochi', 'kolhapur', 'korba', 'kota', 'kottayam',\n",
              "       'kuchamancity', 'lucknow', 'latur', 'mumbai', 'madhepura',\n",
              "       'maheshwar', 'malappuram', 'mangalore', 'mathura', 'meerut',\n",
              "       'mehsana', 'motihari', 'muzaffarpur', 'noida', 'nagpur',\n",
              "       'nainital', 'nanded', 'narnaul', 'navimumbai', 'nawada',\n",
              "       'newdelhi', 'nuzvid', 'palasa', 'pathankot', 'patiala', 'patna',\n",
              "       'pileru', 'prayagraj', 'pune', 'pusad', 'raebareli', 'raigarh',\n",
              "       'raipur', 'rajuhmundry', 'ramgarh', 'rampur', 'ranchi',\n",
              "       'rangareddy', 'rangat', 'raniganj', 'rewari', 'rohini', 'rohtak',\n",
              "       'samastipur', 'sattenapalli', 'shahdol', 'shirdi', 'sikar',\n",
              "       'singhana', 'sitamarhi', 'solapur', 'sonebhadra', 'sonipat',\n",
              "       'sriganganagar', 'surat', 'suryapetta', 'tadipatri', 'tanuku',\n",
              "       'thrissur', 'trichy', 'udaipur', 'ujjain', 'unnao', 'vadodara',\n",
              "       'vapi', 'varanasi', 'vijayawada', 'visakhapatnam', 'vizag',\n",
              "       'warangal', 'wardha', 'warora', 'yavatmal', 'asansol',\n",
              "       'biharsharif', 'churu', 'imphal', 'karur', 'karwar', 'sasaram',\n",
              "       'tinsukia'], dtype=object)"
            ]
          },
          "metadata": {
            "tags": []
          },
          "execution_count": 109
        }
      ]
    },
    {
      "cell_type": "code",
      "metadata": {
        "id": "eG86JcanoQWv",
        "colab_type": "code",
        "colab": {}
      },
      "source": [
        "data=data.sort_values(by=['Home City','Home State'])"
      ],
      "execution_count": 0,
      "outputs": []
    },
    {
      "cell_type": "code",
      "metadata": {
        "id": "cQN0nmjdfkdk",
        "colab_type": "code",
        "colab": {}
      },
      "source": [
        "data['Home City'] =data['Home City'].astype('category').cat.codes"
      ],
      "execution_count": 0,
      "outputs": []
    },
    {
      "cell_type": "markdown",
      "metadata": {
        "id": "cGMK6j76oQWz",
        "colab_type": "text"
      },
      "source": [
        "## Coaching"
      ]
    },
    {
      "cell_type": "code",
      "metadata": {
        "id": "8uXfXkZLoQW0",
        "colab_type": "code",
        "colab": {}
      },
      "source": [
        "data['Coaching City'] = data['Coaching City'].str.lower()\n",
        "data['Coaching City'].replace(['no coaching','-','---','none '],'none',inplace = True)\n",
        "data['Coaching City'] = data['Coaching City'].fillna('none')\n",
        "data['Coaching City'].replace(['new delhi','delhi'],'delhi',inplace  = True)\n",
        "data['Coaching City'].replace(['ahmedabad '],'ahmedabad',inplace  = True)\n",
        "data['Coaching City'].replace(['gurugram'],'gurgaon',inplace  = True)\n",
        "data['Coaching City'].replace(['bokaro steel city'],'bokaro',inplace  = True)\n",
        "data['Coaching City'].replace(['bangalore'],'bengaluru',inplace  = True)\n",
        "data['Coaching City'].replace(['visakhapatnam','vishakapatnam'],'vizag',inplace  = True)\n",
        "data['Coaching City'].replace(['hydreabad','hyderabad '],'ahmedabad',inplace  = True)\n",
        "data['Coaching City'].replace(['patna and kota','patna /kota'],'patna/kota',inplace  = True)\n",
        "data['Coaching City'].replace(['mumbai '],'mumbai',inplace  = True)\n",
        "data['Coaching City'].replace(['vijawada'],'vijayawada',inplace  = True)\n",
        "data['Coaching City'].replace(['bhoal'],'bhopal',inplace = True)\n",
        "data['Coaching City'].replace(['udaipur '],'udaipur',inplace = True)\n",
        "data['Coaching City'].replace({'ajmer(rajasthan)':'ajmer'},inplace = True)"
      ],
      "execution_count": 0,
      "outputs": []
    },
    {
      "cell_type": "code",
      "metadata": {
        "id": "2k0K4P7jIAnU",
        "colab_type": "code",
        "colab": {}
      },
      "source": [
        "data=data.sort_values(by='Coaching City')"
      ],
      "execution_count": 0,
      "outputs": []
    },
    {
      "cell_type": "code",
      "metadata": {
        "id": "nWbccHbOH132",
        "colab_type": "code",
        "outputId": "d255f42a-2fed-4583-eb6c-80bb83e00241",
        "colab": {
          "base_uri": "https://localhost:8080/",
          "height": 266
        }
      },
      "source": [
        "data['Coaching City'].unique()"
      ],
      "execution_count": 114,
      "outputs": [
        {
          "output_type": "execute_result",
          "data": {
            "text/plain": [
              "array(['ahmedabad', 'ahmedpur', 'ajmer', 'allahabed', 'amravati',\n",
              "       'amritsar', 'aurangabad', 'bengaluru', 'bhayander', 'bhopal',\n",
              "       'bhubaneswar', 'bihar', 'bokaro', 'bundi', 'burhanpur',\n",
              "       'chandigarh', 'chennai', 'delhi', 'dhanbad', 'durgapur',\n",
              "       'ghaziabad', 'gorakhpur', 'guntur', 'gurgaon', 'guwahati',\n",
              "       'gwalior', 'hindaun city', 'hyderabad', 'indore', 'jabalpur',\n",
              "       'jaipur', 'jamshedpur', 'jodhpur', 'jorhat', 'kalyan', 'kanpur',\n",
              "       'kochi', 'kodad', 'kolkata', 'kota', 'kottayam', 'latur',\n",
              "       'lucknow', 'mangalore ', 'mathura', 'mumbai', 'mysore', 'nagpur',\n",
              "       'nashik', 'none', 'patiala', 'patna', 'patna/kota', 'pune',\n",
              "       'raipur', 'rajahmundry', 'ranchi', 'rewari', 'rohini', 'rohtak',\n",
              "       'sikar', 'solapur', 'telangana', 'thane', 'thrissur', 'udaipur',\n",
              "       'vadodara', 'varanasi', 'velivennu', 'vijayawada', 'vizag'],\n",
              "      dtype=object)"
            ]
          },
          "metadata": {
            "tags": []
          },
          "execution_count": 114
        }
      ]
    },
    {
      "cell_type": "code",
      "metadata": {
        "id": "VEJTfghWJmc1",
        "colab_type": "code",
        "colab": {}
      },
      "source": [
        "data['Coaching Name'].fillna('0',inplace = True)"
      ],
      "execution_count": 0,
      "outputs": []
    },
    {
      "cell_type": "code",
      "metadata": {
        "id": "UZ6Pz9RHJmif",
        "colab_type": "code",
        "colab": {}
      },
      "source": [
        "data['Coaching Name'].replace(0,'0',inplace = True)"
      ],
      "execution_count": 0,
      "outputs": []
    },
    {
      "cell_type": "code",
      "metadata": {
        "id": "wZ-tfZehYKAd",
        "colab_type": "code",
        "colab": {}
      },
      "source": [
        "c = data['Coaching Name'].unique()"
      ],
      "execution_count": 0,
      "outputs": []
    },
    {
      "cell_type": "code",
      "metadata": {
        "id": "FL0upvBRefTr",
        "colab_type": "code",
        "outputId": "68c576f1-7d61-46dd-98e9-957b9c18304e",
        "colab": {
          "base_uri": "https://localhost:8080/",
          "height": 55
        }
      },
      "source": [
        "print(sorted(c))"
      ],
      "execution_count": 118,
      "outputs": [
        {
          "output_type": "stream",
          "text": [
            "['-', '---', '0', 'Aakash', 'Aakash Institute', 'Aakash janakpuri', 'Abhishek tutorial', 'Abhyanand super 30', 'Allen', 'Allen ', 'Allen career institute', 'BRDS', 'Bakliwal', 'Bakliwal Tutorials', 'Bakliwal tutorials', 'Bakliwal tutorials IIT', 'Bansal', 'Bhashyam', 'Bothra Classes', 'Brothers Academy', 'CFAL', 'CHAINA', 'Career Point', 'Chaina', 'Chaitanya Bharati', 'Chaitanya college', 'Champ Square', 'DQ Labs', 'Dakshana Foundation', 'Dakshana foundation', 'EX NAVODAYAN FOUNDATION', 'Edunova', 'FIITJEE', 'Fiitjee', 'Fiitjee ', 'Fiitjee,South Delhi', 'Fitzee', 'Golden Gate(local coaching)', 'Gurukul ', 'Gurukul classes', 'Gurukul classes(local coaching)', 'IIT Home', 'IIT Ramaiah Study Circle', 'IIT home', 'IITians Pace', 'IQuest', 'Icad', 'Iit home', 'Iitians Pace', 'JRS', 'Jaipur', 'Jnv bundi', 'Kalpvriksha', 'Kautilya IIT academy', 'Kavitha college', 'Lakshya', 'Lalans coaching', 'M Prakash Academy', 'MPC', 'MPrakash Academy', 'Macro vision academy ', 'Matrix jee academy,sikar', 'Mentor eduserve', 'Mentors Eduserv', 'Mentors eduserv', 'Mentors eduserv / Vibrant academy ', 'Momentum', 'Motion', 'Narayana', 'Narayana ', 'Narayana IIT Academy', 'Narayana Institute', 'Narayana junior college', 'No', 'None', 'Normal IIT academy', 'Nucleus', 'Nucleus Education', 'Nucleus education', 'PACE', 'PACE Institute ', 'PCB', 'Paathsala', 'Pace', 'Pace Academy', 'Pace Amravati', 'Pace iit and medical', 'Prerna classes', 'R G academy', 'RESONANCE', 'Rahmani30', 'Rao IIT', 'Rao IIT Academy', 'Reso', 'Reso,vibrant ', 'Resonance', 'Resonance ', 'Resonance institute ', 'Riju and PSK classes', 'Rps', 'Rsml', 'SJIC', 'Sai vikash', 'Sasi ', 'Shikhar', 'Shikhar Coaching classes', 'Silica', 'Sri Chaitanya', 'Sri Chaitanya ', 'Sri Chaitanya Narayana College', 'Sri Chaitanya Narayana Junior college', 'Sri Chaitanya college', 'Sri Chaitanya educational institution', 'Sri chaitanya', 'Sri chaitanya ', 'Sri chaitanya narayana', 'Sri chaithanya', 'Sri chaitnya college ', 'Sri venkateswara classes', 'Srichaitanya', 'Super 30', 'Super30', 'Super30 ', 'T.I.M.E', 'The Science Private Hub', 'Thinc institute', 'Tirumala junior college', 'VMC', 'Velociity', 'Vibrant', 'Vibrant Academy', 'Vibrant academy', 'Vidyamandir , Vibrant', 'Vidyamandir Classes', 'Vidyamandir classes', 'Vishnoi, Ashish, Pankaj', 'Vision Infinity', 'Vmc', 'Waves', 'allen', 'fiitjee', 'iit', 'matrix', 'none', 'pace junior science college', 'rao iit', 'resonance', 'sri chatianya', 'vmc']\n"
          ],
          "name": "stdout"
        }
      ]
    },
    {
      "cell_type": "code",
      "metadata": {
        "id": "x2UftEyVJmz9",
        "colab_type": "code",
        "colab": {}
      },
      "source": [
        "data['Coaching Name'].replace(['-','---','0'],'none',inplace = True)"
      ],
      "execution_count": 0,
      "outputs": []
    },
    {
      "cell_type": "code",
      "metadata": {
        "id": "w4ArkWR4Jm6B",
        "colab_type": "code",
        "colab": {}
      },
      "source": [
        "data['Coaching Name'].replace(['Allen','Allen ','allen','allen ','Allen career institute'],'allen',inplace = True)\n",
        "data['Coaching Name'].replace(['Fiitjee','Fiitjee,South Delhi ','Fiitjee ','Fitzee', 'FIITJEE', 'Fiitjee,South Delhi'],'fiitjee',inplace = True)\n",
        "data['Coaching Name'].replace(['vmc','Vidyamandir classes','VMC','Vmc','Vidyamandir Classes'],'vmc',inplace = True)\n",
        "data['Coaching Name'].replace(['Reso','Resonance', 'Resonance institute ','resonance','Resonance','RESONANCE','Resonance '],'resonance',inplace = True)\n",
        "data['Coaching Name'].replace(['PACE', 'PACE Institute' ,'Pace', 'Pace Academy', 'Pace Amravati', 'Pace iit and medical','pace junior science college','PACE Institute' ],'pace',inplace = True)\n",
        "data['Coaching Name'].replace(['Bakliwal', 'Bakliwal Tutorials', 'Bakliwal tutorials', 'Bakliwal tutorials IIT'],'bakliwal',inplace = True)\n",
        "data['Coaching Name'].replace(['Aakash', 'Aakash Institute', 'Aakash janakpuri'],'aakash',inplace = True)\n",
        "data['Coaching Name'].replace(['CHAINA', 'Chaina'],'chaina',inplace = True)\n",
        "data['Coaching Name'].replace(['Chaitanya Bharati', 'Chaitanya college', 'Sri Chaitanya', 'Sri Chaitanya ', 'Sri Chaitanya Narayana College', 'Sri Chaitanya Narayana Junior college', 'Sri Chaitanya college', 'Sri Chaitanya educational institution', 'Sri chaitanya', 'Sri chaitanya ', 'Sri chaitanya narayana', 'Sri chaithanya', 'Sri chaitnya college','Sri chaitnya college ','sri chatianya','Srichaitanya'],'chaitanya',inplace = True)\n",
        "data['Coaching Name'].replace(['Narayana', 'Narayana ', 'Narayana IIT Academy', 'Narayana Institute', 'Narayana junior college'],'narayana',inplace = True)\n",
        "data['Coaching Name'].replace(['Vibrant', 'Vibrant Academy', 'Vibrant academy'],'vibrant',inplace = True)"
      ],
      "execution_count": 0,
      "outputs": []
    },
    {
      "cell_type": "code",
      "metadata": {
        "id": "ceLvM2exP8G2",
        "colab_type": "code",
        "colab": {}
      },
      "source": [
        "data['Coaching Name']=data['Coaching Name'].str.lower()"
      ],
      "execution_count": 0,
      "outputs": []
    },
    {
      "cell_type": "code",
      "metadata": {
        "id": "MqQWYbT-Pi-C",
        "colab_type": "code",
        "outputId": "65df2385-5b0d-4014-8003-1c087253f939",
        "colab": {
          "base_uri": "https://localhost:8080/",
          "height": 55
        }
      },
      "source": [
        "c = data['Coaching Name'].unique()\n",
        "print(sorted(data['Coaching Name'].unique()))"
      ],
      "execution_count": 122,
      "outputs": [
        {
          "output_type": "stream",
          "text": [
            "['aakash', 'abhishek tutorial', 'abhyanand super 30', 'allen', 'bakliwal', 'bansal', 'bhashyam', 'bothra classes', 'brds', 'brothers academy', 'career point', 'cfal', 'chaina', 'chaitanya', 'champ square', 'dakshana foundation', 'dq labs', 'edunova', 'ex navodayan foundation', 'fiitjee', 'golden gate(local coaching)', 'gurukul ', 'gurukul classes', 'gurukul classes(local coaching)', 'icad', 'iit', 'iit home', 'iit ramaiah study circle', 'iitians pace', 'iquest', 'jaipur', 'jnv bundi', 'jrs', 'kalpvriksha', 'kautilya iit academy', 'kavitha college', 'lakshya', 'lalans coaching', 'm prakash academy', 'macro vision academy ', 'matrix', 'matrix jee academy,sikar', 'mentor eduserve', 'mentors eduserv', 'mentors eduserv / vibrant academy ', 'momentum', 'motion', 'mpc', 'mprakash academy', 'narayana', 'no', 'none', 'normal iit academy', 'nucleus', 'nucleus education', 'paathsala', 'pace', 'pace institute ', 'pcb', 'prerna classes', 'r g academy', 'rahmani30', 'rao iit', 'rao iit academy', 'reso,vibrant ', 'resonance', 'riju and psk classes', 'rps', 'rsml', 'sai vikash', 'sasi ', 'shikhar', 'shikhar coaching classes', 'silica', 'sjic', 'sri venkateswara classes', 'super 30', 'super30', 'super30 ', 't.i.m.e', 'the science private hub', 'thinc institute', 'tirumala junior college', 'velociity', 'vibrant', 'vidyamandir , vibrant', 'vishnoi, ashish, pankaj', 'vision infinity', 'vmc', 'waves']\n"
          ],
          "name": "stdout"
        }
      ]
    },
    {
      "cell_type": "code",
      "metadata": {
        "id": "5N7CdqFdLtNx",
        "colab_type": "code",
        "colab": {}
      },
      "source": [
        "data['Coaching Name'].replace(['aakash institute', 'aakash janakpuri'],'aakash',inplace = True)"
      ],
      "execution_count": 0,
      "outputs": []
    },
    {
      "cell_type": "code",
      "metadata": {
        "id": "A5CQBh4qPhuN",
        "colab_type": "code",
        "colab": {}
      },
      "source": [
        "data['Coaching Name'].replace(['gurukul classes','gurukul classes(local coaching)'],'gurukul',inplace = True)"
      ],
      "execution_count": 0,
      "outputs": []
    },
    {
      "cell_type": "code",
      "metadata": {
        "id": "ttf1ChA3OcTL",
        "colab_type": "code",
        "colab": {}
      },
      "source": [
        "data['Coaching Name'].replace({'matrix jee academy,sikar':'matrix'},inplace = True)"
      ],
      "execution_count": 0,
      "outputs": []
    },
    {
      "cell_type": "code",
      "metadata": {
        "id": "8r5PUemvRWNu",
        "colab_type": "code",
        "colab": {}
      },
      "source": [
        "data['Coaching Name'].replace({'mentor eduserve':'mentors eduserv'},inplace = True)"
      ],
      "execution_count": 0,
      "outputs": []
    },
    {
      "cell_type": "code",
      "metadata": {
        "id": "mST2ofvMR81e",
        "colab_type": "code",
        "colab": {}
      },
      "source": [
        "data['Coaching Name'].replace({'none':'no'},inplace = True)"
      ],
      "execution_count": 0,
      "outputs": []
    },
    {
      "cell_type": "code",
      "metadata": {
        "id": "npCwhNcvSZ5t",
        "colab_type": "code",
        "colab": {}
      },
      "source": [
        "data['Coaching Name'].replace(['super30', 'super30 '],'super 30',inplace = True)"
      ],
      "execution_count": 0,
      "outputs": []
    },
    {
      "cell_type": "code",
      "metadata": {
        "id": "df7gLP-WJmsr",
        "colab_type": "code",
        "outputId": "ae392ffc-f9d5-4a86-dde8-3e38090a0f82",
        "colab": {
          "base_uri": "https://localhost:8080/",
          "height": 55
        }
      },
      "source": [
        "print(sorted(c))"
      ],
      "execution_count": 129,
      "outputs": [
        {
          "output_type": "stream",
          "text": [
            "['aakash', 'abhishek tutorial', 'abhyanand super 30', 'allen', 'bakliwal', 'bansal', 'bhashyam', 'bothra classes', 'brds', 'brothers academy', 'career point', 'cfal', 'chaina', 'chaitanya', 'champ square', 'dakshana foundation', 'dq labs', 'edunova', 'ex navodayan foundation', 'fiitjee', 'golden gate(local coaching)', 'gurukul ', 'gurukul classes', 'gurukul classes(local coaching)', 'icad', 'iit', 'iit home', 'iit ramaiah study circle', 'iitians pace', 'iquest', 'jaipur', 'jnv bundi', 'jrs', 'kalpvriksha', 'kautilya iit academy', 'kavitha college', 'lakshya', 'lalans coaching', 'm prakash academy', 'macro vision academy ', 'matrix', 'matrix jee academy,sikar', 'mentor eduserve', 'mentors eduserv', 'mentors eduserv / vibrant academy ', 'momentum', 'motion', 'mpc', 'mprakash academy', 'narayana', 'no', 'none', 'normal iit academy', 'nucleus', 'nucleus education', 'paathsala', 'pace', 'pace institute ', 'pcb', 'prerna classes', 'r g academy', 'rahmani30', 'rao iit', 'rao iit academy', 'reso,vibrant ', 'resonance', 'riju and psk classes', 'rps', 'rsml', 'sai vikash', 'sasi ', 'shikhar', 'shikhar coaching classes', 'silica', 'sjic', 'sri venkateswara classes', 'super 30', 'super30', 'super30 ', 't.i.m.e', 'the science private hub', 'thinc institute', 'tirumala junior college', 'velociity', 'vibrant', 'vidyamandir , vibrant', 'vishnoi, ashish, pankaj', 'vision infinity', 'vmc', 'waves']\n"
          ],
          "name": "stdout"
        }
      ]
    },
    {
      "cell_type": "code",
      "metadata": {
        "id": "VaGnE1MiJmm6",
        "colab_type": "code",
        "colab": {}
      },
      "source": [
        "data['Coaching Name'] =data['Coaching Name'].astype('category').cat.codes"
      ],
      "execution_count": 0,
      "outputs": []
    },
    {
      "cell_type": "code",
      "metadata": {
        "id": "NihjCLs6Jmg4",
        "colab_type": "code",
        "colab": {}
      },
      "source": [
        "#Finding numerical Features\n",
        "\n",
        "numeric_data = data.select_dtypes(include = np.number)\n",
        "\n",
        "#Finding categorial Features\n",
        "\n",
        "categorial_data = data.select_dtypes(exclude = np.number)\n"
      ],
      "execution_count": 0,
      "outputs": []
    },
    {
      "cell_type": "code",
      "metadata": {
        "id": "FGGvtePZJma9",
        "colab_type": "code",
        "outputId": "daadce16-778e-42c2-97c6-551c842399bc",
        "colab": {
          "base_uri": "https://localhost:8080/",
          "height": 195
        }
      },
      "source": [
        "list(categorial_data)"
      ],
      "execution_count": 132,
      "outputs": [
        {
          "output_type": "execute_result",
          "data": {
            "text/plain": [
              "['Coaching City',\n",
              " \"Mom's Education\",\n",
              " 'Which Technical Clubs are you part of ?',\n",
              " 'Which Cultural Clubs are you part of?',\n",
              " \"Member of Fests' organizing team?\",\n",
              " 'At the time of Spardha/Kirti/Manthan, approx. time given per day? (hours)',\n",
              " 'Addiction?',\n",
              " 'Tech_Clubs',\n",
              " 'Fests',\n",
              " 'Cult_Clubs']"
            ]
          },
          "metadata": {
            "tags": []
          },
          "execution_count": 132
        }
      ]
    },
    {
      "cell_type": "code",
      "metadata": {
        "id": "wIBuqMwlb4Nd",
        "colab_type": "code",
        "outputId": "b4e8cab6-163d-4f59-c4d2-4c746b646d58",
        "colab": {
          "base_uri": "https://localhost:8080/",
          "height": 55
        }
      },
      "source": [
        "print(sorted(data['Coaching City'].unique()))"
      ],
      "execution_count": 133,
      "outputs": [
        {
          "output_type": "stream",
          "text": [
            "['ahmedabad', 'ahmedpur', 'ajmer', 'allahabed', 'amravati', 'amritsar', 'aurangabad', 'bengaluru', 'bhayander', 'bhopal', 'bhubaneswar', 'bihar', 'bokaro', 'bundi', 'burhanpur', 'chandigarh', 'chennai', 'delhi', 'dhanbad', 'durgapur', 'ghaziabad', 'gorakhpur', 'guntur', 'gurgaon', 'guwahati', 'gwalior', 'hindaun city', 'hyderabad', 'indore', 'jabalpur', 'jaipur', 'jamshedpur', 'jodhpur', 'jorhat', 'kalyan', 'kanpur', 'kochi', 'kodad', 'kolkata', 'kota', 'kottayam', 'latur', 'lucknow', 'mangalore ', 'mathura', 'mumbai', 'mysore', 'nagpur', 'nashik', 'none', 'patiala', 'patna', 'patna/kota', 'pune', 'raipur', 'rajahmundry', 'ranchi', 'rewari', 'rohini', 'rohtak', 'sikar', 'solapur', 'telangana', 'thane', 'thrissur', 'udaipur', 'vadodara', 'varanasi', 'velivennu', 'vijayawada', 'vizag']\n"
          ],
          "name": "stdout"
        }
      ]
    },
    {
      "cell_type": "code",
      "metadata": {
        "id": "TC1iAhEAkcoT",
        "colab_type": "code",
        "colab": {}
      },
      "source": [
        "data['Coaching City'] =data['Coaching City'].astype('category').cat.codes"
      ],
      "execution_count": 0,
      "outputs": []
    },
    {
      "cell_type": "code",
      "metadata": {
        "id": "bRnAfxvYkwtH",
        "colab_type": "code",
        "outputId": "582115f8-abca-457a-c1a8-459527a423bd",
        "colab": {
          "base_uri": "https://localhost:8080/",
          "height": 230
        }
      },
      "source": [
        "data['Tech_Clubs']"
      ],
      "execution_count": 135,
      "outputs": [
        {
          "output_type": "execute_result",
          "data": {
            "text/plain": [
              "282    [0, 1, 0, 0]\n",
              "8      [1, 1, 0, 0]\n",
              "116    [2, 1, 0, 0]\n",
              "7      [1, 1, 0, 0]\n",
              "74     [1, 0, 0, 0]\n",
              "           ...     \n",
              "173    [1, 0, 1, 0]\n",
              "234    [0, 0, 1, 0]\n",
              "279    [1, 1, 0, 0]\n",
              "288    [0, 0, 0, 0]\n",
              "289    [0, 0, 1, 0]\n",
              "Name: Tech_Clubs, Length: 312, dtype: object"
            ]
          },
          "metadata": {
            "tags": []
          },
          "execution_count": 135
        }
      ]
    },
    {
      "cell_type": "code",
      "metadata": {
        "id": "F52GlFGIkwyj",
        "colab_type": "code",
        "outputId": "131a7413-7b40-4d70-981a-e065d780f198",
        "colab": {
          "base_uri": "https://localhost:8080/",
          "height": 230
        }
      },
      "source": [
        "data['Fests']"
      ],
      "execution_count": 136,
      "outputs": [
        {
          "output_type": "execute_result",
          "data": {
            "text/plain": [
              "282    [0, 0, 0, 0]\n",
              "8      [1, 1, 0, 0]\n",
              "116    [0, 0, 1, 0]\n",
              "7      [1, 1, 0, 0]\n",
              "74     [1, 0, 0, 0]\n",
              "           ...     \n",
              "173    [1, 1, 0, 0]\n",
              "234    [1, 0, 0, 0]\n",
              "279    [0, 0, 1, 0]\n",
              "288    [0, 1, 0, 0]\n",
              "289    [0, 1, 0, 0]\n",
              "Name: Fests, Length: 312, dtype: object"
            ]
          },
          "metadata": {
            "tags": []
          },
          "execution_count": 136
        }
      ]
    },
    {
      "cell_type": "code",
      "metadata": {
        "id": "PQFCp3-Akw4r",
        "colab_type": "code",
        "outputId": "2d86af84-ac5d-4219-a51b-f9a90b118237",
        "colab": {
          "base_uri": "https://localhost:8080/",
          "height": 177
        }
      },
      "source": [
        "data['At the time of Spardha/Kirti/Manthan, approx. time given per day? (hours)'].unique()"
      ],
      "execution_count": 137,
      "outputs": [
        {
          "output_type": "execute_result",
          "data": {
            "text/plain": [
              "array([4, 2, 0, 1, '0hrs', 3, '4-5', '2 to 3 hours', 69, 0.5, 18,\n",
              "       '1-2 hours', '4-6', '2-3', '1 hr', 6, 1.5, '2 -3hrs', 5, '2/3/4',\n",
              "       '3-4', 'Depends. Before day of event almost entire night', 'O',\n",
              "       'No', 'None', 12, '01', '6 or 7 hrs', 'Max 1', '05', '0 hours',\n",
              "       '1 hour approx', '1-2', 'Two hours', '5 to 6', '5 hours', '1 hour',\n",
              "       '1 to 2', '6 hours', 2.5, '-', '6-8', 'Manthan', 7, 8, '3-5',\n",
              "       '4 hours', '2hr', '2-4hours', 9, 'Variable with max to about 10',\n",
              "       '3 hrs', '1hour', '40 minutes', '6-7', '3hrs', 24, 'no', 0.05,\n",
              "       '1/2hr', '5-6', '0hours', '3 hours'], dtype=object)"
            ]
          },
          "metadata": {
            "tags": []
          },
          "execution_count": 137
        }
      ]
    },
    {
      "cell_type": "code",
      "metadata": {
        "id": "eVCYoim4kw-u",
        "colab_type": "code",
        "colab": {}
      },
      "source": [
        "data['At the time of Spardha/Kirti/Manthan, approx. time given per day? (hours)'].replace({'0hrs':0,'4-5':4, '2 to 3 hours':2,'1-2 hours':1, '4-6':4, '2-3':2, '1 hr':1,'2 -3hrs':2,'2/3/4':3,'3-4':3, 'Depends. Before day of event almost entire night':6, 'O':0,'No':0, 'None':0,'01':1,'6 or 7 hrs':6, 'Max 1':1, '05':5, '0 hours':0,'1 hour approx':1, '1-2':1, 'Two hours':2, '5 to 6':5, '5 hours':5, '1 hour':1,'1 to 2':1, '6 hours':6,'-':0, '6-8':6, 'Manthan':3,'3-5':3,'4 hours':4, '2hr':2, '2-4hours':3,'Variable with max to about 10':10,'3 hrs':3, '1hour':1, '40 minutes':1, '6-7':6, '3hrs':3,'no':0,'1/2hr':1, '5-6':5, '0hours':0, '3 hours':3},inplace=True)"
      ],
      "execution_count": 0,
      "outputs": []
    },
    {
      "cell_type": "code",
      "metadata": {
        "id": "-hzGHhl0kxET",
        "colab_type": "code",
        "outputId": "f58d4916-dd2f-487c-abb2-326157656b97",
        "colab": {
          "base_uri": "https://localhost:8080/",
          "height": 70
        }
      },
      "source": [
        "data['At the time of Spardha/Kirti/Manthan, approx. time given per day? (hours)'].unique()"
      ],
      "execution_count": 139,
      "outputs": [
        {
          "output_type": "execute_result",
          "data": {
            "text/plain": [
              "array([4.0e+00, 2.0e+00, 0.0e+00, 1.0e+00, 3.0e+00, 6.9e+01, 5.0e-01,\n",
              "       1.8e+01, 6.0e+00, 1.5e+00, 5.0e+00, 1.2e+01, 2.5e+00, 7.0e+00,\n",
              "       8.0e+00, 9.0e+00, 1.0e+01, 2.4e+01, 5.0e-02])"
            ]
          },
          "metadata": {
            "tags": []
          },
          "execution_count": 139
        }
      ]
    },
    {
      "cell_type": "code",
      "metadata": {
        "id": "9oWY1E6IkxI5",
        "colab_type": "code",
        "colab": {}
      },
      "source": [
        "data['At the time of Spardha/Kirti/Manthan, approx. time given per day? (hours)'].replace([69,18,24,12],0,inplace=True)"
      ],
      "execution_count": 0,
      "outputs": []
    },
    {
      "cell_type": "code",
      "metadata": {
        "id": "pz0dBVGfkxCx",
        "colab_type": "code",
        "outputId": "22612c7d-9b38-48e8-f979-daeb7faa32b2",
        "colab": {
          "base_uri": "https://localhost:8080/",
          "height": 52
        }
      },
      "source": [
        "data['At the time of Spardha/Kirti/Manthan, approx. time given per day? (hours)'].unique()"
      ],
      "execution_count": 141,
      "outputs": [
        {
          "output_type": "execute_result",
          "data": {
            "text/plain": [
              "array([ 4.  ,  2.  ,  0.  ,  1.  ,  3.  ,  0.5 ,  6.  ,  1.5 ,  5.  ,\n",
              "        2.5 ,  7.  ,  8.  ,  9.  , 10.  ,  0.05])"
            ]
          },
          "metadata": {
            "tags": []
          },
          "execution_count": 141
        }
      ]
    },
    {
      "cell_type": "code",
      "metadata": {
        "id": "dF96KcxqqziK",
        "colab_type": "code",
        "outputId": "5f4e73be-fb97-4eae-80b1-d4ac95e6cc6d",
        "colab": {
          "base_uri": "https://localhost:8080/",
          "height": 52
        }
      },
      "source": [
        "data['Addiction?'].unique()"
      ],
      "execution_count": 142,
      "outputs": [
        {
          "output_type": "execute_result",
          "data": {
            "text/plain": [
              "array([nan, 'Drinking, Smoking, Weed', 'Drinking', 'Smoking', 'Weed',\n",
              "       'Drinking, Smoking'], dtype=object)"
            ]
          },
          "metadata": {
            "tags": []
          },
          "execution_count": 142
        }
      ]
    },
    {
      "cell_type": "code",
      "metadata": {
        "id": "ppgRb6THkw9E",
        "colab_type": "code",
        "colab": {}
      },
      "source": [
        "def addict(add_str):\n",
        "  drink = 0;\n",
        "  smoke =0;\n",
        "  weed = 0;\n",
        "\n",
        "  if('Drinking' in add_str):\n",
        "    drink+=1\n",
        "  if('Smoking' in add_str):\n",
        "    smoke+=1\n",
        "  if('Weed' in add_str):\n",
        "    weed+=1\n",
        "    \n",
        "  return [drink,smoke,weed]"
      ],
      "execution_count": 0,
      "outputs": []
    },
    {
      "cell_type": "code",
      "metadata": {
        "id": "YhEIOS4vtHXf",
        "colab_type": "code",
        "colab": {}
      },
      "source": [
        "data['Addiction?'].fillna('0',inplace = True)"
      ],
      "execution_count": 0,
      "outputs": []
    },
    {
      "cell_type": "code",
      "metadata": {
        "id": "E6Ne5ZX0kw3T",
        "colab_type": "code",
        "colab": {}
      },
      "source": [
        "data['Addict'] = data['Addiction?'].apply(addict)"
      ],
      "execution_count": 0,
      "outputs": []
    },
    {
      "cell_type": "code",
      "metadata": {
        "id": "m6fg3Cdfkww_",
        "colab_type": "code",
        "outputId": "8866ad1a-ceab-496b-ecb8-a7f4206ed44d",
        "colab": {
          "base_uri": "https://localhost:8080/",
          "height": 230
        }
      },
      "source": [
        "data['Addict']"
      ],
      "execution_count": 146,
      "outputs": [
        {
          "output_type": "execute_result",
          "data": {
            "text/plain": [
              "282    [0, 0, 0]\n",
              "8      [0, 0, 0]\n",
              "116    [0, 0, 0]\n",
              "7      [0, 0, 0]\n",
              "74     [0, 0, 0]\n",
              "         ...    \n",
              "173    [0, 0, 0]\n",
              "234    [0, 0, 1]\n",
              "279    [0, 0, 0]\n",
              "288    [0, 0, 0]\n",
              "289    [0, 0, 0]\n",
              "Name: Addict, Length: 312, dtype: object"
            ]
          },
          "metadata": {
            "tags": []
          },
          "execution_count": 146
        }
      ]
    },
    {
      "cell_type": "code",
      "metadata": {
        "id": "gOdgu-2z_kal",
        "colab_type": "code",
        "colab": {}
      },
      "source": [
        "data[['Smoking','Drinking','Weed']] = pd.DataFrame(data['Addict'].values.tolist(), index=data.index)"
      ],
      "execution_count": 0,
      "outputs": []
    },
    {
      "cell_type": "code",
      "metadata": {
        "id": "TF4KG4HzDwS_",
        "colab_type": "code",
        "colab": {}
      },
      "source": [
        "data[['Smoking','Drinking','Weed']] = pd.DataFrame(data['Addict'].values.tolist(), index=data.index)"
      ],
      "execution_count": 0,
      "outputs": []
    },
    {
      "cell_type": "code",
      "metadata": {
        "id": "1YsL-AOuDweZ",
        "colab_type": "code",
        "colab": {}
      },
      "source": [
        "data[['Smoking','Drinking','Weed']] = pd.DataFrame(data['Addict'].values.tolist(), index=data.index)"
      ],
      "execution_count": 0,
      "outputs": []
    },
    {
      "cell_type": "code",
      "metadata": {
        "id": "kg1IET8vkc9v",
        "colab_type": "code",
        "colab": {}
      },
      "source": [
        "data.drop(['Which Technical Clubs are you part of ?','Which Cultural Clubs are you part of?','Addiction?',\"Member of Fests' organizing team?\"],axis=1,inplace = True)"
      ],
      "execution_count": 0,
      "outputs": []
    },
    {
      "cell_type": "code",
      "metadata": {
        "id": "PTGSUybtkdBj",
        "colab_type": "code",
        "outputId": "49dc6ac7-8aee-4a75-925f-f1bd8e70b365",
        "colab": {
          "base_uri": "https://localhost:8080/",
          "height": 1000
        }
      },
      "source": [
        "data.info()"
      ],
      "execution_count": 151,
      "outputs": [
        {
          "output_type": "stream",
          "text": [
            "<class 'pandas.core.frame.DataFrame'>\n",
            "Int64Index: 312 entries, 282 to 289\n",
            "Data columns (total 63 columns):\n",
            "Sex                                                                                  312 non-null int64\n",
            "Branch                                                                               312 non-null int64\n",
            "Dropper?                                                                             312 non-null int64\n",
            "10th Board                                                                           312 non-null int64\n",
            "12th Board                                                                           312 non-null int64\n",
            "Coaching                                                                             312 non-null int64\n",
            "Coaching City                                                                        312 non-null int8\n",
            "Coaching Name                                                                        312 non-null int8\n",
            "Home State                                                                           312 non-null int8\n",
            "Home City                                                                            312 non-null int16\n",
            "Family Size                                                                          312 non-null int64\n",
            "Mom's Education                                                                      311 non-null object\n",
            "Dad's Education                                                                      312 non-null int64\n",
            "Mom's Job                                                                            312 non-null int64\n",
            "Dad's Job                                                                            312 non-null int64\n",
            "Study Time?                                                                          312 non-null int64\n",
            "Hostel?                                                                              312 non-null int64\n",
            "At the time of Spardha/Kirti/Manthan, approx. time given per day? (hours)            312 non-null float64\n",
            "Have you taken an educational loan?                                                  312 non-null int64\n",
            "Time spent outside your room[except classes]? (daily average, in hours)              311 non-null float64\n",
            "Attendance?                                                                          312 non-null int64\n",
            "Relationship status?                                                                 312 non-null int64\n",
            "Time spent per day in gaming, tvseries, movies, other leisure activities ?(hours)    312 non-null float64\n",
            "Library?                                                                             312 non-null int64\n",
            "When do you sleep?                                                                   312 non-null int64\n",
            "Sleep Duration(Hrs)?                                                                 312 non-null int64\n",
            "Do you sleep during the day?                                                         312 non-null int64\n",
            "Relation with TA ? (on the scale of 1 to 5)                                          312 non-null int64\n",
            "Lab taken seriously                                                                  312 non-null float64\n",
            "Tut taken seriously                                                                  312 non-null float64\n",
            "Quiz taken seriously                                                                 312 non-null float64\n",
            "Midsem taken seriously                                                               312 non-null float64\n",
            "Endsem taken seriously                                                               312 non-null float64\n",
            "Aiming for branch change                                                             312 non-null float64\n",
            "Attention Level(During Lectures)                                                     312 non-null float64\n",
            "Group Study/Individual                                                               312 non-null int64\n",
            "Study Material Preferred                                                             312 non-null int64\n",
            "Interest in branch?                                                                  312 non-null float64\n",
            "Core/Non-Core                                                                        312 non-null int64\n",
            "CPI                                                                                  311 non-null float64\n",
            "Tech_Clubs                                                                           312 non-null object\n",
            "bus                                                                                  312 non-null int64\n",
            "hard                                                                                 312 non-null int64\n",
            "tech                                                                                 312 non-null int64\n",
            "other_tech                                                                           312 non-null int64\n",
            "Fests                                                                                312 non-null object\n",
            "techniche                                                                            312 non-null int64\n",
            "alcher                                                                               312 non-null int64\n",
            "chugm                                                                                312 non-null int64\n",
            "other_fest                                                                           312 non-null int64\n",
            "Cult_Clubs                                                                           312 non-null object\n",
            "cad                                                                                  312 non-null int64\n",
            "lit                                                                                  312 non-null int64\n",
            "deb                                                                                  312 non-null int64\n",
            "anr                                                                                  312 non-null int64\n",
            "mont                                                                                 312 non-null int64\n",
            "drama                                                                                312 non-null int64\n",
            "arts                                                                                 312 non-null int64\n",
            "lum                                                                                  312 non-null int64\n",
            "Addict                                                                               312 non-null object\n",
            "Smoking                                                                              312 non-null int64\n",
            "Drinking                                                                             312 non-null int64\n",
            "Weed                                                                                 312 non-null int64\n",
            "dtypes: float64(12), int16(1), int64(42), int8(3), object(5)\n",
            "memory usage: 147.8+ KB\n"
          ],
          "name": "stdout"
        }
      ]
    },
    {
      "cell_type": "code",
      "metadata": {
        "id": "GLBA54Z_kdI9",
        "colab_type": "code",
        "colab": {}
      },
      "source": [
        "data.fillna(0,inplace=True)"
      ],
      "execution_count": 0,
      "outputs": []
    },
    {
      "cell_type": "code",
      "metadata": {
        "id": "Skh34QIhkdM-",
        "colab_type": "code",
        "outputId": "db0757c0-aee1-4c73-c0fd-db7338862dad",
        "colab": {
          "base_uri": "https://localhost:8080/",
          "height": 1000
        }
      },
      "source": [
        "data.info()"
      ],
      "execution_count": 153,
      "outputs": [
        {
          "output_type": "stream",
          "text": [
            "<class 'pandas.core.frame.DataFrame'>\n",
            "Int64Index: 312 entries, 282 to 289\n",
            "Data columns (total 63 columns):\n",
            "Sex                                                                                  312 non-null int64\n",
            "Branch                                                                               312 non-null int64\n",
            "Dropper?                                                                             312 non-null int64\n",
            "10th Board                                                                           312 non-null int64\n",
            "12th Board                                                                           312 non-null int64\n",
            "Coaching                                                                             312 non-null int64\n",
            "Coaching City                                                                        312 non-null int8\n",
            "Coaching Name                                                                        312 non-null int8\n",
            "Home State                                                                           312 non-null int8\n",
            "Home City                                                                            312 non-null int16\n",
            "Family Size                                                                          312 non-null int64\n",
            "Mom's Education                                                                      312 non-null object\n",
            "Dad's Education                                                                      312 non-null int64\n",
            "Mom's Job                                                                            312 non-null int64\n",
            "Dad's Job                                                                            312 non-null int64\n",
            "Study Time?                                                                          312 non-null int64\n",
            "Hostel?                                                                              312 non-null int64\n",
            "At the time of Spardha/Kirti/Manthan, approx. time given per day? (hours)            312 non-null float64\n",
            "Have you taken an educational loan?                                                  312 non-null int64\n",
            "Time spent outside your room[except classes]? (daily average, in hours)              312 non-null float64\n",
            "Attendance?                                                                          312 non-null int64\n",
            "Relationship status?                                                                 312 non-null int64\n",
            "Time spent per day in gaming, tvseries, movies, other leisure activities ?(hours)    312 non-null float64\n",
            "Library?                                                                             312 non-null int64\n",
            "When do you sleep?                                                                   312 non-null int64\n",
            "Sleep Duration(Hrs)?                                                                 312 non-null int64\n",
            "Do you sleep during the day?                                                         312 non-null int64\n",
            "Relation with TA ? (on the scale of 1 to 5)                                          312 non-null int64\n",
            "Lab taken seriously                                                                  312 non-null float64\n",
            "Tut taken seriously                                                                  312 non-null float64\n",
            "Quiz taken seriously                                                                 312 non-null float64\n",
            "Midsem taken seriously                                                               312 non-null float64\n",
            "Endsem taken seriously                                                               312 non-null float64\n",
            "Aiming for branch change                                                             312 non-null float64\n",
            "Attention Level(During Lectures)                                                     312 non-null float64\n",
            "Group Study/Individual                                                               312 non-null int64\n",
            "Study Material Preferred                                                             312 non-null int64\n",
            "Interest in branch?                                                                  312 non-null float64\n",
            "Core/Non-Core                                                                        312 non-null int64\n",
            "CPI                                                                                  312 non-null float64\n",
            "Tech_Clubs                                                                           312 non-null object\n",
            "bus                                                                                  312 non-null int64\n",
            "hard                                                                                 312 non-null int64\n",
            "tech                                                                                 312 non-null int64\n",
            "other_tech                                                                           312 non-null int64\n",
            "Fests                                                                                312 non-null object\n",
            "techniche                                                                            312 non-null int64\n",
            "alcher                                                                               312 non-null int64\n",
            "chugm                                                                                312 non-null int64\n",
            "other_fest                                                                           312 non-null int64\n",
            "Cult_Clubs                                                                           312 non-null object\n",
            "cad                                                                                  312 non-null int64\n",
            "lit                                                                                  312 non-null int64\n",
            "deb                                                                                  312 non-null int64\n",
            "anr                                                                                  312 non-null int64\n",
            "mont                                                                                 312 non-null int64\n",
            "drama                                                                                312 non-null int64\n",
            "arts                                                                                 312 non-null int64\n",
            "lum                                                                                  312 non-null int64\n",
            "Addict                                                                               312 non-null object\n",
            "Smoking                                                                              312 non-null int64\n",
            "Drinking                                                                             312 non-null int64\n",
            "Weed                                                                                 312 non-null int64\n",
            "dtypes: float64(12), int16(1), int64(42), int8(3), object(5)\n",
            "memory usage: 147.8+ KB\n"
          ],
          "name": "stdout"
        }
      ]
    },
    {
      "cell_type": "code",
      "metadata": {
        "id": "p7oSFix45ibU",
        "colab_type": "code",
        "colab": {}
      },
      "source": [
        "#Finding numerical Features\n",
        "\n",
        "numeric_data = data.select_dtypes(include = np.number)\n",
        "\n",
        "#Finding categorial Features\n",
        "\n",
        "categorial_data = data.select_dtypes(exclude = np.number)\n"
      ],
      "execution_count": 0,
      "outputs": []
    },
    {
      "cell_type": "code",
      "metadata": {
        "id": "EUhRw2N65kLR",
        "colab_type": "code",
        "outputId": "57284301-2862-4fce-d97f-60060f3037a9",
        "colab": {
          "base_uri": "https://localhost:8080/",
          "height": 35
        }
      },
      "source": [
        "list(categorial_data)"
      ],
      "execution_count": 155,
      "outputs": [
        {
          "output_type": "execute_result",
          "data": {
            "text/plain": [
              "[\"Mom's Education\", 'Tech_Clubs', 'Fests', 'Cult_Clubs', 'Addict']"
            ]
          },
          "metadata": {
            "tags": []
          },
          "execution_count": 155
        }
      ]
    },
    {
      "cell_type": "code",
      "metadata": {
        "id": "AeUKhn2xFICE",
        "colab_type": "code",
        "colab": {}
      },
      "source": [
        "data.drop(['Addict','Fests','Tech_Clubs','Cult_Clubs'],axis=1,inplace = True)"
      ],
      "execution_count": 0,
      "outputs": []
    },
    {
      "cell_type": "code",
      "metadata": {
        "id": "BST40kcu1Ka4",
        "colab_type": "code",
        "colab": {}
      },
      "source": [
        "y = data['CPI ']"
      ],
      "execution_count": 0,
      "outputs": []
    },
    {
      "cell_type": "code",
      "metadata": {
        "id": "CWgUHsuk3KRA",
        "colab_type": "code",
        "colab": {}
      },
      "source": [
        "model_data = data.drop('CPI ',axis=1)"
      ],
      "execution_count": 0,
      "outputs": []
    },
    {
      "cell_type": "markdown",
      "metadata": {
        "id": "rWRWtcImyGKY",
        "colab_type": "text"
      },
      "source": [
        "## Model"
      ]
    },
    {
      "cell_type": "code",
      "metadata": {
        "id": "zoRrsduSxIJs",
        "colab_type": "code",
        "colab": {}
      },
      "source": [
        "from sklearn import preprocessing, svm \n",
        "from sklearn.model_selection import train_test_split \n",
        "from sklearn.linear_model import LinearRegression "
      ],
      "execution_count": 0,
      "outputs": []
    },
    {
      "cell_type": "code",
      "metadata": {
        "id": "kWGqX0N_xMHh",
        "colab_type": "code",
        "outputId": "903e5003-a8d0-40d4-fa44-0e537dbba1a5",
        "colab": {
          "base_uri": "https://localhost:8080/",
          "height": 195
        }
      },
      "source": [
        "from  sklearn.model_selection import train_test_split\n",
        "\n",
        "X_train,X_test,y_train,y_test = train_test_split(model_data.copy(), y,test_size=0.01, random_state= 42)\n",
        "print('Shapes')\n",
        "print('X_train: ',X_train.shape)\n",
        "print('X_val: ',X_test.shape)\n",
        "print('y_train: ',y_train.shape)\n",
        "print('y_val: ',y_test.shape)"
      ],
      "execution_count": 187,
      "outputs": [
        {
          "output_type": "stream",
          "text": [
            "Shapes\n",
            "X_train:  (308, 58)\n",
            "X_val:  (4, 58)\n",
            "y_train:  (308,)\n",
            "y_val:  (4,)\n",
            "Shapes\n",
            "X_train:  (308, 58)\n",
            "X_val:  (4, 58)\n",
            "y_train:  (308,)\n",
            "y_val:  (4,)\n"
          ],
          "name": "stdout"
        }
      ]
    },
    {
      "cell_type": "code",
      "metadata": {
        "id": "2p3yhYjgxxQY",
        "colab_type": "code",
        "outputId": "02a952e1-cbd1-4098-fc0b-74f836177d54",
        "colab": {
          "base_uri": "https://localhost:8080/",
          "height": 35
        }
      },
      "source": [
        "regressor = LinearRegression()  \n",
        "regressor.fit(X_train, y_train) #training the algorithm"
      ],
      "execution_count": 169,
      "outputs": [
        {
          "output_type": "execute_result",
          "data": {
            "text/plain": [
              "LinearRegression(copy_X=True, fit_intercept=True, n_jobs=None, normalize=False)"
            ]
          },
          "metadata": {
            "tags": []
          },
          "execution_count": 169
        }
      ]
    },
    {
      "cell_type": "code",
      "metadata": {
        "id": "zHbXf-HE3YCB",
        "colab_type": "code",
        "outputId": "296a6505-55dc-4a1b-ed65-07bbfeb90717",
        "colab": {
          "base_uri": "https://localhost:8080/",
          "height": 284
        }
      },
      "source": [
        "regressor.coef_"
      ],
      "execution_count": 206,
      "outputs": [
        {
          "output_type": "execute_result",
          "data": {
            "text/plain": [
              "array([-1.06356719e-01,  2.00203808e-02, -3.52192105e-01,  5.79955457e-02,\n",
              "       -1.41379406e-01,  2.49436846e-01,  9.25311425e-04, -8.42400213e-03,\n",
              "        1.27966410e-02, -2.73981035e-03,  6.16651429e-02, -7.57152490e-02,\n",
              "       -1.71931898e-01,  6.80307131e-03,  7.75478184e-02, -1.19513531e-01,\n",
              "       -4.51317512e-04,  1.32137276e-02,  3.78067470e-01, -7.44487319e-03,\n",
              "        4.03753364e-01, -1.42982568e-01, -4.68924572e-02,  3.22912555e-02,\n",
              "       -4.26108787e-03,  2.87622113e-02, -6.88701851e-02, -3.38419706e-02,\n",
              "       -1.04498024e-01, -8.32560940e-02, -3.51858769e-03,  2.90238767e-01,\n",
              "       -1.84734784e-01,  2.63197794e-01, -3.44019242e-02, -1.28538445e-01,\n",
              "       -7.75090280e-03,  1.02337321e-01, -1.34798089e-01, -5.69187657e-02,\n",
              "        6.51080119e-02,  4.18281629e-01, -8.73239599e-01,  1.28653816e-01,\n",
              "       -2.71665948e-01,  4.77841727e-02, -2.49800181e-16, -2.15776297e-01,\n",
              "       -7.31366814e-01,  5.32292362e-01,  2.39251701e-01,  2.01227923e-16,\n",
              "        5.06536039e-02,  2.44142370e-02,  4.42498489e-01, -1.16523387e-01,\n",
              "       -2.35042370e-01, -4.67709906e-01])"
            ]
          },
          "metadata": {
            "tags": []
          },
          "execution_count": 206
        }
      ]
    },
    {
      "cell_type": "code",
      "metadata": {
        "id": "-JYSXT525GOh",
        "colab_type": "code",
        "outputId": "817e368c-eedd-47d8-d0fc-d87df4facc90",
        "colab": {
          "base_uri": "https://localhost:8080/",
          "height": 35
        }
      },
      "source": [
        "regressor.intercept_"
      ],
      "execution_count": 207,
      "outputs": [
        {
          "output_type": "execute_result",
          "data": {
            "text/plain": [
              "6.842726151336809"
            ]
          },
          "metadata": {
            "tags": []
          },
          "execution_count": 207
        }
      ]
    },
    {
      "cell_type": "code",
      "metadata": {
        "id": "WkipMjg-vgbE",
        "colab_type": "code",
        "colab": {}
      },
      "source": [
        "y_train_pred = regressor.predict(X_train)"
      ],
      "execution_count": 0,
      "outputs": []
    },
    {
      "cell_type": "code",
      "metadata": {
        "id": "zxN1A-rqG1VK",
        "colab_type": "code",
        "outputId": "df66a34a-477b-40c2-bc65-6c115fd9295f",
        "colab": {
          "base_uri": "https://localhost:8080/",
          "height": 399
        }
      },
      "source": [
        "df = pd.DataFrame({'Actual': y_train, 'Predicted':y_train_pred })\n",
        "df"
      ],
      "execution_count": 209,
      "outputs": [
        {
          "output_type": "execute_result",
          "data": {
            "text/html": [
              "<div>\n",
              "<style scoped>\n",
              "    .dataframe tbody tr th:only-of-type {\n",
              "        vertical-align: middle;\n",
              "    }\n",
              "\n",
              "    .dataframe tbody tr th {\n",
              "        vertical-align: top;\n",
              "    }\n",
              "\n",
              "    .dataframe thead th {\n",
              "        text-align: right;\n",
              "    }\n",
              "</style>\n",
              "<table border=\"1\" class=\"dataframe\">\n",
              "  <thead>\n",
              "    <tr style=\"text-align: right;\">\n",
              "      <th></th>\n",
              "      <th>Actual</th>\n",
              "      <th>Predicted</th>\n",
              "    </tr>\n",
              "  </thead>\n",
              "  <tbody>\n",
              "    <tr>\n",
              "      <th>225</th>\n",
              "      <td>7.88</td>\n",
              "      <td>7.119258</td>\n",
              "    </tr>\n",
              "    <tr>\n",
              "      <th>174</th>\n",
              "      <td>10.00</td>\n",
              "      <td>9.144647</td>\n",
              "    </tr>\n",
              "    <tr>\n",
              "      <th>129</th>\n",
              "      <td>7.88</td>\n",
              "      <td>7.782019</td>\n",
              "    </tr>\n",
              "    <tr>\n",
              "      <th>128</th>\n",
              "      <td>7.35</td>\n",
              "      <td>7.703371</td>\n",
              "    </tr>\n",
              "    <tr>\n",
              "      <th>132</th>\n",
              "      <td>8.12</td>\n",
              "      <td>8.477440</td>\n",
              "    </tr>\n",
              "    <tr>\n",
              "      <th>...</th>\n",
              "      <td>...</td>\n",
              "      <td>...</td>\n",
              "    </tr>\n",
              "    <tr>\n",
              "      <th>159</th>\n",
              "      <td>7.50</td>\n",
              "      <td>6.920236</td>\n",
              "    </tr>\n",
              "    <tr>\n",
              "      <th>213</th>\n",
              "      <td>9.58</td>\n",
              "      <td>8.358534</td>\n",
              "    </tr>\n",
              "    <tr>\n",
              "      <th>147</th>\n",
              "      <td>7.16</td>\n",
              "      <td>8.315302</td>\n",
              "    </tr>\n",
              "    <tr>\n",
              "      <th>20</th>\n",
              "      <td>9.93</td>\n",
              "      <td>7.940748</td>\n",
              "    </tr>\n",
              "    <tr>\n",
              "      <th>236</th>\n",
              "      <td>6.91</td>\n",
              "      <td>7.049292</td>\n",
              "    </tr>\n",
              "  </tbody>\n",
              "</table>\n",
              "<p>308 rows × 2 columns</p>\n",
              "</div>"
            ],
            "text/plain": [
              "     Actual  Predicted\n",
              "225    7.88   7.119258\n",
              "174   10.00   9.144647\n",
              "129    7.88   7.782019\n",
              "128    7.35   7.703371\n",
              "132    8.12   8.477440\n",
              "..      ...        ...\n",
              "159    7.50   6.920236\n",
              "213    9.58   8.358534\n",
              "147    7.16   8.315302\n",
              "20     9.93   7.940748\n",
              "236    6.91   7.049292\n",
              "\n",
              "[308 rows x 2 columns]"
            ]
          },
          "metadata": {
            "tags": []
          },
          "execution_count": 209
        }
      ]
    },
    {
      "cell_type": "code",
      "metadata": {
        "id": "zljyVr8Cvq5O",
        "colab_type": "code",
        "colab": {}
      },
      "source": [
        "y_test_pred = regressor.predict(X_test)"
      ],
      "execution_count": 0,
      "outputs": []
    },
    {
      "cell_type": "code",
      "metadata": {
        "id": "19TJggLXvyV_",
        "colab_type": "code",
        "colab": {
          "base_uri": "https://localhost:8080/",
          "height": 164
        },
        "outputId": "76472bd0-ebb8-4640-90a6-d9bb00e4f9f0"
      },
      "source": [
        "df1 = pd.DataFrame({'Actual': y_test, 'Predicted':y_test_pred })\n",
        "df1"
      ],
      "execution_count": 211,
      "outputs": [
        {
          "output_type": "execute_result",
          "data": {
            "text/html": [
              "<div>\n",
              "<style scoped>\n",
              "    .dataframe tbody tr th:only-of-type {\n",
              "        vertical-align: middle;\n",
              "    }\n",
              "\n",
              "    .dataframe tbody tr th {\n",
              "        vertical-align: top;\n",
              "    }\n",
              "\n",
              "    .dataframe thead th {\n",
              "        text-align: right;\n",
              "    }\n",
              "</style>\n",
              "<table border=\"1\" class=\"dataframe\">\n",
              "  <thead>\n",
              "    <tr style=\"text-align: right;\">\n",
              "      <th></th>\n",
              "      <th>Actual</th>\n",
              "      <th>Predicted</th>\n",
              "    </tr>\n",
              "  </thead>\n",
              "  <tbody>\n",
              "    <tr>\n",
              "      <th>182</th>\n",
              "      <td>6.00</td>\n",
              "      <td>6.713596</td>\n",
              "    </tr>\n",
              "    <tr>\n",
              "      <th>221</th>\n",
              "      <td>8.20</td>\n",
              "      <td>7.818276</td>\n",
              "    </tr>\n",
              "    <tr>\n",
              "      <th>106</th>\n",
              "      <td>8.74</td>\n",
              "      <td>8.159252</td>\n",
              "    </tr>\n",
              "    <tr>\n",
              "      <th>164</th>\n",
              "      <td>9.12</td>\n",
              "      <td>8.767725</td>\n",
              "    </tr>\n",
              "  </tbody>\n",
              "</table>\n",
              "</div>"
            ],
            "text/plain": [
              "     Actual  Predicted\n",
              "182    6.00   6.713596\n",
              "221    8.20   7.818276\n",
              "106    8.74   8.159252\n",
              "164    9.12   8.767725"
            ]
          },
          "metadata": {
            "tags": []
          },
          "execution_count": 211
        }
      ]
    },
    {
      "cell_type": "code",
      "metadata": {
        "id": "Xw2FSuWtHvRd",
        "colab_type": "code",
        "colab": {}
      },
      "source": [
        "import sklearn.metrics as metrics"
      ],
      "execution_count": 0,
      "outputs": []
    },
    {
      "cell_type": "code",
      "metadata": {
        "id": "Z4qtMcXXv9KF",
        "colab_type": "code",
        "colab": {
          "base_uri": "https://localhost:8080/",
          "height": 70
        },
        "outputId": "f11b3a7f-97db-4c8e-c19e-98157906a90f"
      },
      "source": [
        "print('Mean Absolute Error:', metrics.mean_absolute_error(y_train, y_train_pred))  \n",
        "print('Mean Squared Error:', metrics.mean_squared_error(y_train, y_train_pred))  \n",
        "print('Root Mean Squared Error:', np.sqrt(metrics.mean_squared_error(y_train, y_train_pred)))"
      ],
      "execution_count": 213,
      "outputs": [
        {
          "output_type": "stream",
          "text": [
            "Mean Absolute Error: 0.7533596218991494\n",
            "Mean Squared Error: 1.0341128023203108\n",
            "Root Mean Squared Error: 1.0169133701158182\n"
          ],
          "name": "stdout"
        }
      ]
    },
    {
      "cell_type": "code",
      "metadata": {
        "id": "h00JwHQ4G6Gp",
        "colab_type": "code",
        "outputId": "b236f429-0cd8-492a-c29d-4af38e58b244",
        "colab": {
          "base_uri": "https://localhost:8080/",
          "height": 70
        }
      },
      "source": [
        "print('Mean Absolute Error:', metrics.mean_absolute_error(y_test, y_test_pred))  \n",
        "print('Mean Squared Error:', metrics.mean_squared_error(y_test, y_test_pred))  \n",
        "print('Root Mean Squared Error:', np.sqrt(metrics.mean_squared_error(y_test, y_test_pred)))"
      ],
      "execution_count": 214,
      "outputs": [
        {
          "output_type": "stream",
          "text": [
            "Mean Absolute Error: 0.5070857715424455\n",
            "Mean Squared Error: 0.27907449053689737\n",
            "Root Mean Squared Error: 0.5282750141137639\n"
          ],
          "name": "stdout"
        }
      ]
    },
    {
      "cell_type": "code",
      "metadata": {
        "id": "SsS91DHxHIkS",
        "colab_type": "code",
        "outputId": "8bb79f31-0d9e-49a7-d2f5-56f70b9d71b8",
        "colab": {
          "base_uri": "https://localhost:8080/",
          "height": 35
        }
      },
      "source": [
        "from sklearn.metrics import r2_score\n",
        "r2_score(y_train, y_train_pred)"
      ],
      "execution_count": 215,
      "outputs": [
        {
          "output_type": "execute_result",
          "data": {
            "text/plain": [
              "0.3832780164027204"
            ]
          },
          "metadata": {
            "tags": []
          },
          "execution_count": 215
        }
      ]
    },
    {
      "cell_type": "code",
      "metadata": {
        "id": "3Bl7e8ne9TPl",
        "colab_type": "code",
        "colab": {
          "base_uri": "https://localhost:8080/",
          "height": 35
        },
        "outputId": "9099cb7a-b554-4ace-bfb9-b592f57d59cf"
      },
      "source": [
        "r2_score(y_test,y_test_pred)"
      ],
      "execution_count": 216,
      "outputs": [
        {
          "output_type": "execute_result",
          "data": {
            "text/plain": [
              "0.8088890855921677"
            ]
          },
          "metadata": {
            "tags": []
          },
          "execution_count": 216
        }
      ]
    },
    {
      "cell_type": "code",
      "metadata": {
        "id": "zXLWmq-hss3W",
        "colab_type": "code",
        "colab": {}
      },
      "source": [
        ""
      ],
      "execution_count": 0,
      "outputs": []
    }
  ]
}